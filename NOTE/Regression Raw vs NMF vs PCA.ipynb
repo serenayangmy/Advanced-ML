{
 "cells": [
  {
   "cell_type": "markdown",
   "id": "63125e97",
   "metadata": {},
   "source": [
    "# Feature Extraction\n",
    "Compare the effects of:\n",
    "- Nonnegative Matrix Factorization\n",
    "- PCA"
   ]
  },
  {
   "cell_type": "code",
   "execution_count": 1,
   "id": "3e9cfd79",
   "metadata": {},
   "outputs": [],
   "source": [
    "import numpy as np\n",
    "import pandas as pd\n",
    "from sklearn.decomposition import NMF\n",
    "from sklearn import datasets"
   ]
  },
  {
   "cell_type": "code",
   "execution_count": 2,
   "id": "0b49fee7",
   "metadata": {
    "colab": {},
    "colab_type": "code",
    "id": "2CyPK6oi004s"
   },
   "outputs": [
    {
     "data": {
      "text/plain": [
       "dict_keys(['data', 'target', 'feature_names', 'DESCR', 'filename'])"
      ]
     },
     "execution_count": 2,
     "metadata": {},
     "output_type": "execute_result"
    }
   ],
   "source": [
    "boston_obj = datasets.load_boston()\n",
    "boston_obj.keys()"
   ]
  },
  {
   "cell_type": "code",
   "execution_count": 3,
   "id": "552a58b6",
   "metadata": {
    "colab": {
     "base_uri": "https://localhost:8080/",
     "height": 50
    },
    "colab_type": "code",
    "executionInfo": {
     "elapsed": 340,
     "status": "ok",
     "timestamp": 1559842003367,
     "user": {
      "displayName": "Chris Teplovs",
      "photoUrl": "https://lh3.googleusercontent.com/-hvsX3g6d4sw/AAAAAAAAAAI/AAAAAAAAAZc/TAiSU5Yf9MM/s64/photo.jpg",
      "userId": "16459993455773861105"
     },
     "user_tz": 240
    },
    "id": "SpaitNG6004v",
    "outputId": "c3c1b9ba-a60b-4894-beaa-336247ea1533"
   },
   "outputs": [
    {
     "data": {
      "text/plain": [
       "array(['CRIM', 'ZN', 'INDUS', 'CHAS', 'NOX', 'RM', 'AGE', 'DIS', 'RAD',\n",
       "       'TAX', 'PTRATIO', 'B', 'LSTAT'], dtype='<U7')"
      ]
     },
     "execution_count": 3,
     "metadata": {},
     "output_type": "execute_result"
    }
   ],
   "source": [
    "boston_obj.feature_names"
   ]
  },
  {
   "cell_type": "code",
   "execution_count": 4,
   "id": "f22a326e",
   "metadata": {},
   "outputs": [
    {
     "data": {
      "text/plain": [
       "array([24. , 21.6, 34.7, 33.4, 36.2, 28.7, 22.9, 27.1, 16.5, 18.9])"
      ]
     },
     "execution_count": 4,
     "metadata": {},
     "output_type": "execute_result"
    }
   ],
   "source": [
    "y = boston_obj.target\n",
    "y[0:10]"
   ]
  },
  {
   "cell_type": "code",
   "execution_count": 5,
   "id": "fd8264fb",
   "metadata": {
    "colab": {
     "base_uri": "https://localhost:8080/",
     "height": 34
    },
    "colab_type": "code",
    "executionInfo": {
     "elapsed": 265,
     "status": "ok",
     "timestamp": 1559842004839,
     "user": {
      "displayName": "Chris Teplovs",
      "photoUrl": "https://lh3.googleusercontent.com/-hvsX3g6d4sw/AAAAAAAAAAI/AAAAAAAAAZc/TAiSU5Yf9MM/s64/photo.jpg",
      "userId": "16459993455773861105"
     },
     "user_tz": 240
    },
    "id": "rEKEOh9r0040",
    "outputId": "5338528f-af6d-42e8-c636-400acc658e73",
    "scrolled": true
   },
   "outputs": [
    {
     "data": {
      "text/plain": [
       "(506, 13)"
      ]
     },
     "execution_count": 5,
     "metadata": {},
     "output_type": "execute_result"
    }
   ],
   "source": [
    "boston = boston_obj.data\n",
    "boston.shape"
   ]
  },
  {
   "cell_type": "code",
   "execution_count": 6,
   "id": "f1cb6f03",
   "metadata": {
    "colab": {
     "base_uri": "https://localhost:8080/",
     "height": 235
    },
    "colab_type": "code",
    "executionInfo": {
     "elapsed": 269,
     "status": "ok",
     "timestamp": 1559842006319,
     "user": {
      "displayName": "Chris Teplovs",
      "photoUrl": "https://lh3.googleusercontent.com/-hvsX3g6d4sw/AAAAAAAAAAI/AAAAAAAAAZc/TAiSU5Yf9MM/s64/photo.jpg",
      "userId": "16459993455773861105"
     },
     "user_tz": 240
    },
    "id": "DK2vFG0F0042",
    "outputId": "7cbd4aca-1db8-4789-af51-8b8e5e24a7c0"
   },
   "outputs": [
    {
     "data": {
      "text/plain": [
       "array([[6.3200e-03, 1.8000e+01, 2.3100e+00, ..., 1.5300e+01, 3.9690e+02,\n",
       "        4.9800e+00],\n",
       "       [2.7310e-02, 0.0000e+00, 7.0700e+00, ..., 1.7800e+01, 3.9690e+02,\n",
       "        9.1400e+00],\n",
       "       [2.7290e-02, 0.0000e+00, 7.0700e+00, ..., 1.7800e+01, 3.9283e+02,\n",
       "        4.0300e+00],\n",
       "       ...,\n",
       "       [6.0760e-02, 0.0000e+00, 1.1930e+01, ..., 2.1000e+01, 3.9690e+02,\n",
       "        5.6400e+00],\n",
       "       [1.0959e-01, 0.0000e+00, 1.1930e+01, ..., 2.1000e+01, 3.9345e+02,\n",
       "        6.4800e+00],\n",
       "       [4.7410e-02, 0.0000e+00, 1.1930e+01, ..., 2.1000e+01, 3.9690e+02,\n",
       "        7.8800e+00]])"
      ]
     },
     "execution_count": 6,
     "metadata": {},
     "output_type": "execute_result"
    }
   ],
   "source": [
    "boston"
   ]
  },
  {
   "cell_type": "markdown",
   "id": "d1e06342",
   "metadata": {},
   "source": [
    "Is the Boston data all non-negative?"
   ]
  },
  {
   "cell_type": "code",
   "execution_count": 7,
   "id": "663185de",
   "metadata": {},
   "outputs": [
    {
     "data": {
      "text/plain": [
       "0"
      ]
     },
     "execution_count": 7,
     "metadata": {},
     "output_type": "execute_result"
    }
   ],
   "source": [
    "(boston < 0).sum()"
   ]
  },
  {
   "cell_type": "code",
   "execution_count": 8,
   "id": "60ac10af",
   "metadata": {},
   "outputs": [],
   "source": [
    "nmf = NMF(n_components=3, random_state=0)"
   ]
  },
  {
   "cell_type": "code",
   "execution_count": 9,
   "id": "dcd6e918",
   "metadata": {},
   "outputs": [
    {
     "name": "stderr",
     "output_type": "stream",
     "text": [
      "C:\\Users\\ilyas\\Miniconda3\\envs\\data_science\\lib\\site-packages\\sklearn\\decomposition\\_nmf.py:315: FutureWarning: The 'init' value, when 'init=None' and n_components is less than n_samples and n_features, will be changed from 'nndsvd' to 'nndsvda' in 1.1 (renaming of 0.26).\n",
      "  \"'nndsvda' in 1.1 (renaming of 0.26).\"), FutureWarning)\n",
      "C:\\Users\\ilyas\\Miniconda3\\envs\\data_science\\lib\\site-packages\\sklearn\\decomposition\\_nmf.py:1091: ConvergenceWarning: Maximum number of iterations 200 reached. Increase it to improve convergence.\n",
      "  \" improve convergence.\" % max_iter, ConvergenceWarning)\n"
     ]
    }
   ],
   "source": [
    "boston_nmf = nmf.fit_transform(boston)"
   ]
  },
  {
   "cell_type": "code",
   "execution_count": 10,
   "id": "e34971c8",
   "metadata": {},
   "outputs": [
    {
     "data": {
      "text/plain": [
       "array([[2.73971033, 3.44109087, 1.28212774],\n",
       "       [2.21461446, 3.41035564, 1.66219827],\n",
       "       [2.21489689, 3.4037101 , 1.23410961],\n",
       "       ...,\n",
       "       [2.5187064 , 3.39286761, 1.92434442],\n",
       "       [2.5201336 , 3.3647883 , 1.88748026],\n",
       "       [2.51855494, 3.40865418, 1.6923861 ]])"
      ]
     },
     "execution_count": 10,
     "metadata": {},
     "output_type": "execute_result"
    }
   ],
   "source": [
    "boston_nmf"
   ]
  },
  {
   "cell_type": "code",
   "execution_count": 11,
   "id": "435b7472",
   "metadata": {},
   "outputs": [],
   "source": [
    "from sklearn.linear_model import LinearRegression\n",
    "from sklearn.ensemble import RandomForestRegressor"
   ]
  },
  {
   "cell_type": "code",
   "execution_count": 12,
   "id": "32ad1182",
   "metadata": {},
   "outputs": [],
   "source": [
    "lr = LinearRegression()"
   ]
  },
  {
   "cell_type": "code",
   "execution_count": 13,
   "id": "fd3845e2",
   "metadata": {},
   "outputs": [
    {
     "data": {
      "text/plain": [
       "0.7406426641094095"
      ]
     },
     "execution_count": 13,
     "metadata": {},
     "output_type": "execute_result"
    }
   ],
   "source": [
    "lr.fit(boston, y)\n",
    "lr.score(boston, y)"
   ]
  },
  {
   "cell_type": "code",
   "execution_count": 14,
   "id": "35376377",
   "metadata": {},
   "outputs": [
    {
     "data": {
      "text/plain": [
       "0.26900811532704105"
      ]
     },
     "execution_count": 14,
     "metadata": {},
     "output_type": "execute_result"
    }
   ],
   "source": [
    "lr.fit(boston_nmf, y)\n",
    "lr.score(boston_nmf, y)"
   ]
  },
  {
   "cell_type": "markdown",
   "id": "f5daade7",
   "metadata": {},
   "source": [
    "## Create train test split"
   ]
  },
  {
   "cell_type": "code",
   "execution_count": 15,
   "id": "0a43dba5",
   "metadata": {},
   "outputs": [],
   "source": [
    "from sklearn.model_selection import train_test_split\n",
    "X_train, X_val, y_train, y_val = train_test_split(\n",
    "    boston, y, test_size=0.30, random_state=42)\n",
    "\n",
    "X_val, X_test, y_val, y_test = train_test_split(\n",
    "    X_val, y_val, test_size=0.50, random_state=42)"
   ]
  },
  {
   "cell_type": "code",
   "execution_count": 16,
   "id": "excellent-syria",
   "metadata": {},
   "outputs": [],
   "source": [
    "X_train_full = np.concatenate((X_train, X_val))\n",
    "y_train_full = np.concatenate((y_train, y_val))"
   ]
  },
  {
   "cell_type": "code",
   "execution_count": 17,
   "id": "finished-overhead",
   "metadata": {},
   "outputs": [
    {
     "name": "stdout",
     "output_type": "stream",
     "text": [
      "(354, 13) (76, 13) (76, 13)\n"
     ]
    }
   ],
   "source": [
    "print(X_train.shape, X_val.shape, X_test.shape)"
   ]
  },
  {
   "cell_type": "code",
   "execution_count": 18,
   "id": "banner-integration",
   "metadata": {},
   "outputs": [
    {
     "name": "stdout",
     "output_type": "stream",
     "text": [
      "(430, 13) (430,)\n"
     ]
    }
   ],
   "source": [
    "print(X_train_full.shape, y_train_full.shape)"
   ]
  },
  {
   "cell_type": "markdown",
   "id": "lined-advancement",
   "metadata": {},
   "source": [
    "## Linear Regression using raw data\n",
    "Adding one more variable each time. The variables are added in the order they appear in the dataset."
   ]
  },
  {
   "cell_type": "code",
   "execution_count": 19,
   "id": "religious-sigma",
   "metadata": {},
   "outputs": [
    {
     "data": {
      "text/plain": [
       "[0.09722567713402908,\n",
       " 0.23865337414971,\n",
       " 0.3551424251768437,\n",
       " 0.36225946435389156,\n",
       " 0.35217244103291356,\n",
       " 0.7564596129381543,\n",
       " 0.7633489474389412,\n",
       " 0.7882104111214656,\n",
       " 0.7757949095521778,\n",
       " 0.795650592145494,\n",
       " 0.8333505473819255,\n",
       " 0.8199773521368927,\n",
       " 0.7679610099970229]"
      ]
     },
     "execution_count": 19,
     "metadata": {},
     "output_type": "execute_result"
    }
   ],
   "source": [
    "scores_raw = []\n",
    "lr = LinearRegression()\n",
    "\n",
    "for i in range(1, 14):\n",
    "    X_train2 = X_train[:, 0:i]\n",
    "    X_val2 = X_val[:, 0:i]\n",
    "    \n",
    "    score = lr.fit(X_train2, y_train).score(X_val2, y_val)\n",
    "    scores_raw.append(score)\n",
    "scores_raw"
   ]
  },
  {
   "cell_type": "markdown",
   "id": "2a858e7b",
   "metadata": {},
   "source": [
    "## Try different number of NMF components using Cross-Validation"
   ]
  },
  {
   "cell_type": "code",
   "execution_count": 20,
   "id": "f3057bdb",
   "metadata": {},
   "outputs": [
    {
     "name": "stderr",
     "output_type": "stream",
     "text": [
      "C:\\Users\\ilyas\\Miniconda3\\envs\\data_science\\lib\\site-packages\\sklearn\\decomposition\\_nmf.py:1091: ConvergenceWarning: Maximum number of iterations 10000 reached. Increase it to improve convergence.\n",
      "  \" improve convergence.\" % max_iter, ConvergenceWarning)\n"
     ]
    }
   ],
   "source": [
    "scores_nmf = []\n",
    "lr = LinearRegression()\n",
    "\n",
    "for i in range(1, 14):\n",
    "    nmf = NMF(n_components=i, random_state=0, init='nndsvda', max_iter=10000)\n",
    "    X_train2 = nmf.fit_transform(X_train)\n",
    "    X_val2 = nmf.transform(X_val)\n",
    "    \n",
    "    score = lr.fit(X_train2, y_train).score(X_val2, y_val)\n",
    "    scores_nmf.append(score)"
   ]
  },
  {
   "cell_type": "code",
   "execution_count": 21,
   "id": "hundred-population",
   "metadata": {},
   "outputs": [
    {
     "data": {
      "text/plain": [
       "[0.20187480555448067,\n",
       " 0.25170424743435726,\n",
       " 0.2928465757105949,\n",
       " 0.32172443430539466,\n",
       " 0.4830942626445388,\n",
       " 0.5273998486898421,\n",
       " 0.45508085429213574,\n",
       " 0.39381756653051525,\n",
       " 0.5475856351492756,\n",
       " 0.5335124834792789,\n",
       " 0.39123630901903916,\n",
       " -0.4196361179497261,\n",
       " 0.4519340471980441]"
      ]
     },
     "execution_count": 21,
     "metadata": {},
     "output_type": "execute_result"
    }
   ],
   "source": [
    "scores_nmf"
   ]
  },
  {
   "cell_type": "markdown",
   "id": "descending-success",
   "metadata": {},
   "source": [
    "As we can see the behavior of NMF is rather erratic, suddenly going down from 0.53 R2 value down to 0.09 when we go from 11 to 12 componenets."
   ]
  },
  {
   "cell_type": "markdown",
   "id": "challenging-reducing",
   "metadata": {},
   "source": [
    "## Apply PCA"
   ]
  },
  {
   "cell_type": "code",
   "execution_count": 29,
   "id": "endless-agent",
   "metadata": {},
   "outputs": [],
   "source": [
    "from sklearn.decomposition import PCA\n",
    "from sklearn.preprocessing import StandardScaler"
   ]
  },
  {
   "cell_type": "code",
   "execution_count": 30,
   "id": "bridal-thailand",
   "metadata": {},
   "outputs": [],
   "source": [
    "ss = StandardScaler()\n",
    "ss.fit(X_train)\n",
    "X_train_ss = ss.transform(X_train)\n",
    "X_val_ss = ss.transform(X_val)"
   ]
  },
  {
   "cell_type": "code",
   "execution_count": 31,
   "id": "optimum-terry",
   "metadata": {},
   "outputs": [],
   "source": [
    "scores_pca = []\n",
    "lr = LinearRegression()\n",
    "\n",
    "for i in range(1, 14):\n",
    "    pca = PCA(n_components=i, random_state=0)\n",
    "    X_train2 = pca.fit_transform(X_train_ss)\n",
    "    X_val2 = pca.transform(X_val_ss)\n",
    "    \n",
    "    score = lr.fit(X_train2, y_train).score(X_val2, y_val)\n",
    "    scores_pca.append(score)"
   ]
  },
  {
   "cell_type": "code",
   "execution_count": 32,
   "id": "stupid-communication",
   "metadata": {},
   "outputs": [
    {
     "name": "stdout",
     "output_type": "stream",
     "text": [
      "[0.46198516 0.57484363 0.67181814 0.74263325 0.80385438 0.85782097\n",
      " 0.89809577 0.92828506 0.9500715  0.96772693 0.98270603 0.99508437\n",
      " 1.        ]\n"
     ]
    },
    {
     "data": {
      "image/png": "[encoded data removed]",
      "text/plain": [
       "<Figure size 432x288 with 1 Axes>"
      ]
     },
     "metadata": {
      "image/png": {
       "height": 261,
       "width": 385
      },
      "needs_background": "light"
     },
     "output_type": "display_data"
    }
   ],
   "source": [
    "print(pca.explained_variance_ratio_.cumsum())\n",
    "plt.plot(pca.explained_variance_ratio_.cumsum(), '-o');\n",
    "plt.xticks(ticks= range(X_train.shape[1]), labels=[i+1 for i in range(X_train.shape[1])])\n",
    "plt.xlabel('Principal Components')\n",
    "plt.ylabel('Variance Explained')\n",
    "plt.show()"
   ]
  },
  {
   "cell_type": "markdown",
   "id": "dressed-candy",
   "metadata": {},
   "source": [
    "## Plot the results"
   ]
  },
  {
   "cell_type": "code",
   "execution_count": 25,
   "id": "sporting-argentina",
   "metadata": {},
   "outputs": [
    {
     "data": {
      "image/png": "[encoded data removed]",
      "text/plain": [
       "<Figure size 432x288 with 1 Axes>"
      ]
     },
     "metadata": {
      "image/png": {
       "height": 261,
       "width": 395
      },
      "needs_background": "light"
     },
     "output_type": "display_data"
    }
   ],
   "source": [
    "import matplotlib.pyplot as plt\n",
    "plt.plot(scores_nmf, label ='NMF')\n",
    "plt.plot(scores_pca, label='PCA')\n",
    "plt.plot(scores_raw, label='Raw')\n",
    "plt.legend()\n",
    "plt.ylabel('$R^2$')\n",
    "plt.xlabel('Number of Components')\n",
    "plt.xticks(ticks=[i for i in np.arange(len(scores_pca))], labels=[i+1 for i in np.arange(len(scores_pca))])\n",
    "plt.grid()\n",
    "plt.show()"
   ]
  },
  {
   "cell_type": "markdown",
   "id": "mature-leisure",
   "metadata": {},
   "source": [
    "PCA with 6 components seems to be doing good enough."
   ]
  },
  {
   "cell_type": "markdown",
   "id": "directed-wallace",
   "metadata": {},
   "source": [
    "## Test results"
   ]
  },
  {
   "cell_type": "code",
   "execution_count": 35,
   "id": "employed-workshop",
   "metadata": {},
   "outputs": [
    {
     "data": {
      "text/plain": [
       "0.5362849832694463"
      ]
     },
     "execution_count": 35,
     "metadata": {},
     "output_type": "execute_result"
    }
   ],
   "source": [
    "X_train_full_ss = ss.fit_transform(X_train_full)\n",
    "X_test_ss = ss.fit_transform(X_test)\n",
    "\n",
    "pca = PCA(n_components=6, random_state=0)\n",
    "\n",
    "X_train_full2 = pca.fit_transform(X_train_full_ss)\n",
    "X_test2 = pca.transform(X_test_ss)\n",
    "\n",
    "score = lr.fit(X_train_full2, y_train_full).score(X_test2, y_test)\n",
    "score"
   ]
  },
  {
   "cell_type": "markdown",
   "id": "moving-accordance",
   "metadata": {},
   "source": [
    "Ilyas Ustun"
   ]
  },
  {
   "cell_type": "code",
   "execution_count": null,
   "id": "laden-mustang",
   "metadata": {},
   "outputs": [],
   "source": []
  }
 ],
 "metadata": {
  "kernelspec": {
   "display_name": "Python 3",
   "language": "python",
   "name": "python3"
  },
  "language_info": {
   "codemirror_mode": {
    "name": "ipython",
    "version": 3
   },
   "file_extension": ".py",
   "mimetype": "text/x-python",
   "name": "python",
   "nbconvert_exporter": "python",
   "pygments_lexer": "ipython3",
   "version": "3.6.11"
  }
 },
 "nbformat": 4,
 "nbformat_minor": 5
}
