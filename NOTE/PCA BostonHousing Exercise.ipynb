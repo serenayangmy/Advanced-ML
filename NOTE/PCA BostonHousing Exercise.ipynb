{
 "cells": [
  {
   "cell_type": "markdown",
   "metadata": {
    "colab_type": "text",
    "id": "rC9SVUoK004q"
   },
   "source": [
    "# Introduction to Principal Component Analysis\n",
    "- The goal of principal component analysis (PCA) is to reduce a set of data with multiple variables down to a smaller number of variables. \n",
    "- This exercise will walk you through the process of doing PCA yourself. \n",
    "- Please make sure all your code comes directly after the step that asks for it. (I.e. Import the data right after Step 1, etc.)\n"
   ]
  },
  {
   "cell_type": "markdown",
   "metadata": {
    "colab_type": "text",
    "id": "tO53jxN_004r"
   },
   "source": [
    "_**Step 1:** Import the Boston dataset by running sklearn.datasets.load_\\__boston(). This is a dataset of home features and prices in census tracts around Boston from the 1970 census._"
   ]
  },
  {
   "cell_type": "code",
   "execution_count": 1,
   "metadata": {
    "colab": {},
    "colab_type": "code",
    "id": "2CyPK6oi004s"
   },
   "outputs": [],
   "source": [
    "import numpy as np\n",
    "from sklearn import datasets\n",
    "boston_obj = datasets.load_boston()"
   ]
  },
  {
   "cell_type": "markdown",
   "metadata": {
    "colab_type": "text",
    "id": "nuoxoL_N004v"
   },
   "source": [
    "_**Step 2:** Examine the data to find the names of the 13 features and the number of data points. Do not include the actual median home prices, which is \"target\"._"
   ]
  },
  {
   "cell_type": "code",
   "execution_count": 2,
   "metadata": {
    "colab": {
     "base_uri": "https://localhost:8080/",
     "height": 50
    },
    "colab_type": "code",
    "executionInfo": {
     "elapsed": 340,
     "status": "ok",
     "timestamp": 1559842003367,
     "user": {
      "displayName": "Chris Teplovs",
      "photoUrl": "https://lh3.googleusercontent.com/-hvsX3g6d4sw/AAAAAAAAAAI/AAAAAAAAAZc/TAiSU5Yf9MM/s64/photo.jpg",
      "userId": "16459993455773861105"
     },
     "user_tz": 240
    },
    "id": "SpaitNG6004v",
    "outputId": "c3c1b9ba-a60b-4894-beaa-336247ea1533"
   },
   "outputs": [
    {
     "data": {
      "text/plain": [
       "array(['CRIM', 'ZN', 'INDUS', 'CHAS', 'NOX', 'RM', 'AGE', 'DIS', 'RAD',\n",
       "       'TAX', 'PTRATIO', 'B', 'LSTAT'], dtype='<U7')"
      ]
     },
     "execution_count": 2,
     "metadata": {},
     "output_type": "execute_result"
    }
   ],
   "source": [
    "boston_obj.feature_names"
   ]
  },
  {
   "cell_type": "code",
   "execution_count": 3,
   "metadata": {
    "colab": {
     "base_uri": "https://localhost:8080/",
     "height": 34
    },
    "colab_type": "code",
    "executionInfo": {
     "elapsed": 265,
     "status": "ok",
     "timestamp": 1559842004839,
     "user": {
      "displayName": "Chris Teplovs",
      "photoUrl": "https://lh3.googleusercontent.com/-hvsX3g6d4sw/AAAAAAAAAAI/AAAAAAAAAZc/TAiSU5Yf9MM/s64/photo.jpg",
      "userId": "16459993455773861105"
     },
     "user_tz": 240
    },
    "id": "rEKEOh9r0040",
    "outputId": "5338528f-af6d-42e8-c636-400acc658e73",
    "scrolled": true
   },
   "outputs": [
    {
     "data": {
      "text/plain": [
       "(506, 13)"
      ]
     },
     "execution_count": 3,
     "metadata": {},
     "output_type": "execute_result"
    }
   ],
   "source": [
    "boston = boston_obj.data\n",
    "boston.shape"
   ]
  },
  {
   "cell_type": "code",
   "execution_count": 4,
   "metadata": {
    "colab": {
     "base_uri": "https://localhost:8080/",
     "height": 235
    },
    "colab_type": "code",
    "executionInfo": {
     "elapsed": 269,
     "status": "ok",
     "timestamp": 1559842006319,
     "user": {
      "displayName": "Chris Teplovs",
      "photoUrl": "https://lh3.googleusercontent.com/-hvsX3g6d4sw/AAAAAAAAAAI/AAAAAAAAAZc/TAiSU5Yf9MM/s64/photo.jpg",
      "userId": "16459993455773861105"
     },
     "user_tz": 240
    },
    "id": "DK2vFG0F0042",
    "outputId": "7cbd4aca-1db8-4789-af51-8b8e5e24a7c0"
   },
   "outputs": [
    {
     "data": {
      "text/plain": [
       "array([[6.3200e-03, 1.8000e+01, 2.3100e+00, ..., 1.5300e+01, 3.9690e+02,\n",
       "        4.9800e+00],\n",
       "       [2.7310e-02, 0.0000e+00, 7.0700e+00, ..., 1.7800e+01, 3.9690e+02,\n",
       "        9.1400e+00],\n",
       "       [2.7290e-02, 0.0000e+00, 7.0700e+00, ..., 1.7800e+01, 3.9283e+02,\n",
       "        4.0300e+00],\n",
       "       ...,\n",
       "       [6.0760e-02, 0.0000e+00, 1.1930e+01, ..., 2.1000e+01, 3.9690e+02,\n",
       "        5.6400e+00],\n",
       "       [1.0959e-01, 0.0000e+00, 1.1930e+01, ..., 2.1000e+01, 3.9345e+02,\n",
       "        6.4800e+00],\n",
       "       [4.7410e-02, 0.0000e+00, 1.1930e+01, ..., 2.1000e+01, 3.9690e+02,\n",
       "        7.8800e+00]])"
      ]
     },
     "execution_count": 4,
     "metadata": {},
     "output_type": "execute_result"
    }
   ],
   "source": [
    "boston"
   ]
  },
  {
   "cell_type": "markdown",
   "metadata": {
    "colab_type": "text",
    "id": "_b1tIKKk0045"
   },
   "source": [
    "_**Step 3:** Standardize your data using sklearn.preprocessing.StandardScaler()._\n"
   ]
  },
  {
   "cell_type": "code",
   "execution_count": 5,
   "metadata": {
    "colab": {
     "base_uri": "https://localhost:8080/",
     "height": 235
    },
    "colab_type": "code",
    "executionInfo": {
     "elapsed": 266,
     "status": "ok",
     "timestamp": 1559842010133,
     "user": {
      "displayName": "Chris Teplovs",
      "photoUrl": "https://lh3.googleusercontent.com/-hvsX3g6d4sw/AAAAAAAAAAI/AAAAAAAAAZc/TAiSU5Yf9MM/s64/photo.jpg",
      "userId": "16459993455773861105"
     },
     "user_tz": 240
    },
    "id": "QaUi0O2I0045",
    "outputId": "80d9695f-f7a9-417c-e5fe-72b5ccf1513c"
   },
   "outputs": [],
   "source": [
    "# Code"
   ]
  },
  {
   "cell_type": "markdown",
   "metadata": {
    "colab_type": "text",
    "id": "9sOG9O0N0048"
   },
   "source": [
    "_**Step 4:** Perform PCA on the feature set by using sklearn.decomposition.PCA_\n"
   ]
  },
  {
   "cell_type": "code",
   "execution_count": 6,
   "metadata": {
    "colab": {
     "base_uri": "https://localhost:8080/",
     "height": 50
    },
    "colab_type": "code",
    "executionInfo": {
     "elapsed": 413,
     "status": "ok",
     "timestamp": 1559842012396,
     "user": {
      "displayName": "Chris Teplovs",
      "photoUrl": "https://lh3.googleusercontent.com/-hvsX3g6d4sw/AAAAAAAAAAI/AAAAAAAAAZc/TAiSU5Yf9MM/s64/photo.jpg",
      "userId": "16459993455773861105"
     },
     "user_tz": 240
    },
    "id": "0sgVFasp0048",
    "outputId": "2deba511-f434-4efa-e885-485a1632cd5b"
   },
   "outputs": [
    {
     "data": {
      "text/plain": [
       "PCA(iterated_power=40, random_state=1, tol=1e-06)"
      ]
     },
     "execution_count": 6,
     "metadata": {},
     "output_type": "execute_result"
    }
   ],
   "source": [
    "# Code"
   ]
  },
  {
   "cell_type": "markdown",
   "metadata": {
    "colab_type": "text",
    "id": "YSsSWURt004_"
   },
   "source": [
    "_**Step 5:** Calculate the amount of variance explained by each component. How many principal components would you keep? (Create scree plot)_"
   ]
  },
  {
   "cell_type": "code",
   "execution_count": 7,
   "metadata": {
    "colab": {
     "base_uri": "https://localhost:8080/",
     "height": 84
    },
    "colab_type": "code",
    "executionInfo": {
     "elapsed": 380,
     "status": "ok",
     "timestamp": 1559842023089,
     "user": {
      "displayName": "Chris Teplovs",
      "photoUrl": "https://lh3.googleusercontent.com/-hvsX3g6d4sw/AAAAAAAAAAI/AAAAAAAAAZc/TAiSU5Yf9MM/s64/photo.jpg",
      "userId": "16459993455773861105"
     },
     "user_tz": 240
    },
    "id": "uy58_mwb004_",
    "outputId": "ae8187ff-c0a2-41c7-ad55-839115b3527e"
   },
   "outputs": [
    {
     "name": "stdout",
     "output_type": "stream",
     "text": [
      "[0.47129606 0.11025193 0.0955859  0.06596732 0.06421661 0.05056978\n",
      " 0.04118124 0.03046902 0.02130333 0.01694137 0.0143088  0.01302331\n",
      " 0.00488533]\n"
     ]
    }
   ],
   "source": [
    "# Code"
   ]
  },
  {
   "cell_type": "code",
   "execution_count": 8,
   "metadata": {
    "colab": {
     "base_uri": "https://localhost:8080/",
     "height": 50
    },
    "colab_type": "code",
    "executionInfo": {
     "elapsed": 385,
     "status": "ok",
     "timestamp": 1559842026958,
     "user": {
      "displayName": "Chris Teplovs",
      "photoUrl": "https://lh3.googleusercontent.com/-hvsX3g6d4sw/AAAAAAAAAAI/AAAAAAAAAZc/TAiSU5Yf9MM/s64/photo.jpg",
      "userId": "16459993455773861105"
     },
     "user_tz": 240
    },
    "id": "7DPx2qJu005D",
    "outputId": "b00401e4-56c5-4315-83cf-1a055f0ef57b"
   },
   "outputs": [
    {
     "name": "stdout",
     "output_type": "stream",
     "text": [
      "[0.471 0.11  0.096 0.066 0.064 0.051 0.041 0.03  0.021 0.017 0.014 0.013\n",
      " 0.005]\n"
     ]
    }
   ],
   "source": [
    "# Code"
   ]
  },
  {
   "cell_type": "markdown",
   "metadata": {
    "colab_type": "text",
    "id": "u9KiSI7P005F"
   },
   "source": []
  },
  {
   "cell_type": "markdown",
   "metadata": {
    "colab_type": "text",
    "id": "Z6JFf7D6005F"
   },
   "source": [
    "_**Step 6:** Plot the data with the first principal component on the x-axis and the second principal component on the y-axis. As a check on your work, your plot should look like this:_\n",
    "<img src=\"pca_plot.png\" alt=\"Drawing\" style=\"width: 300px;\"/>"
   ]
  },
  {
   "cell_type": "code",
   "execution_count": 9,
   "metadata": {
    "colab": {},
    "colab_type": "code",
    "id": "0jPk-r4y005G"
   },
   "outputs": [],
   "source": [
    "# Code"
   ]
  },
  {
   "cell_type": "code",
   "execution_count": 10,
   "metadata": {
    "scrolled": true
   },
   "outputs": [
    {
     "data": {
      "text/plain": [
       "<matplotlib.collections.PathCollection at 0x2105e3f27b8>"
      ]
     },
     "execution_count": 10,
     "metadata": {},
     "output_type": "execute_result"
    },
    {
     "data": {
      "image/png": "[encoded data removed]",
      "text/plain": [
       "<Figure size 432x288 with 1 Axes>"
      ]
     },
     "metadata": {
      "needs_background": "light"
     },
     "output_type": "display_data"
    }
   ],
   "source": []
  },
  {
   "cell_type": "code",
   "execution_count": null,
   "metadata": {
    "colab": {},
    "colab_type": "code",
    "id": "lPSCKAGg1Jlt"
   },
   "outputs": [],
   "source": []
  }
 ],
 "metadata": {
  "colab": {
   "name": "Intro to Principal Component Analysis.ipynb",
   "provenance": [],
   "version": "0.3.2"
  },
  "kernelspec": {
   "display_name": "Python 3",
   "language": "python",
   "name": "python3"
  },
  "language_info": {
   "codemirror_mode": {
    "name": "ipython",
    "version": 3
   },
   "file_extension": ".py",
   "mimetype": "text/x-python",
   "name": "python",
   "nbconvert_exporter": "python",
   "pygments_lexer": "ipython3",
   "version": "3.6.11"
  },
  "toc": {
   "base_numbering": 1,
   "nav_menu": {},
   "number_sections": false,
   "sideBar": false,
   "skip_h1_title": false,
   "title_cell": "Table of Contents",
   "title_sidebar": "Contents",
   "toc_cell": false,
   "toc_position": {},
   "toc_section_display": false,
   "toc_window_display": false
  }
 },
 "nbformat": 4,
 "nbformat_minor": 4
}
