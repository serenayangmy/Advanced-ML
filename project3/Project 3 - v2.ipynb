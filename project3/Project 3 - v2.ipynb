{
 "cells": [
  {
   "cell_type": "markdown",
   "metadata": {},
   "source": [
    "# DSC540 Project 3"
   ]
  },
  {
   "cell_type": "markdown",
   "metadata": {},
   "source": [
    "DePaul University  \n",
    "Ilyas Ustun, PhD  \n",
    "twitter: \\_ilyas\\_ustun\\_  "
   ]
  },
  {
   "cell_type": "markdown",
   "metadata": {},
   "source": [
    "## Rules\n",
    "- Write your code under the corresponding questions where you see `# Code here`. You are encouraged to use more than one cell.\n",
    "- Provide explanation in a separate Markdown formatted cell. \n",
    "- You can change the cell type by:\n",
    "    - Clicking on the outer area of the cell type you want to change,\n",
    "    - Go to the top, and select either Code or Markdown from the dropdown menu.\n",
    "- Be concise in your explanations and conclusions.\n",
    "- Write clear code and provide explanation to functions you create by using `#` comment sign.\n",
    "- For built-in function and methods you use from libraries, provide a very brief explanation of what they do.\n",
    "- Try to answer the questions by yourself. Use documentation from pandas, sklearn and similar libraries to solve the problem.\n",
    "- If you are stuck you can use different resources. Do not find an identical project and copy paste the solutions. \n",
    "- Write your name before beginning to code.\n",
    "\n",
    "\n",
    "Important:  \n",
    "- **Do NOT share the solutions with other people.**\n",
    "- **Do NOT share the solutions on the internet including but not limited to Github and other platforms.**\n",
    "- Sign the Honor Pledge below indicating that you have agreed to these rules listed here, and any other ethical and honor rules as required by the university.\n",
    "\n",
    "\n",
    "\n",
    "- **Deliverables:**\n",
    "    1. The Python Jupyter notebook file named properly with your name. Example: dsc540_project1_john_doe.ipynb\n",
    "    2. The HTML output of this code notebook names the same way. Example: dsc540_project1_john_doe.html\n",
    "        - File -> Download as -> HTML   \n",
    "\n",
    "Good Luck!"
   ]
  },
  {
   "cell_type": "markdown",
   "metadata": {},
   "source": [
    "### Ming Yang"
   ]
  },
  {
   "cell_type": "markdown",
   "metadata": {},
   "source": [
    "**Honor Pledge:**  \n",
    "I pledge on my honor that I, **Ming Yang**, have followed the rules listed above, that I have not given or received any unauthorized assistance on this assignment. \n"
   ]
  },
  {
   "cell_type": "markdown",
   "metadata": {},
   "source": [
    "\n",
    "## Project Description\n",
    "\n",
    "In this project we will be analyzing CO and NOX gas emissions from a power plant. The variables, their meanings and some statistics are given in the table below."
   ]
  },
  {
   "cell_type": "markdown",
   "metadata": {},
   "source": [
    "![PowerPlantEmissionsFeaturesTable](PowerPlantEmissionsFeaturesTable.PNG)"
   ]
  },
  {
   "cell_type": "markdown",
   "metadata": {},
   "source": [
    "## Import Libraries\n",
    "\n",
    "**Import the usual libraries for pandas and plotting, and sklearn.**"
   ]
  },
  {
   "cell_type": "code",
   "execution_count": 1,
   "metadata": {},
   "outputs": [],
   "source": [
    "import pandas as pd\n",
    "import numpy as np\n",
    "import matplotlib.pyplot as plt\n",
    "import seaborn as sns\n",
    "\n",
    "from sklearn import metrics"
   ]
  },
  {
   "cell_type": "code",
   "execution_count": 2,
   "metadata": {},
   "outputs": [
    {
     "data": {
      "text/plain": [
       "'0.23.2'"
      ]
     },
     "execution_count": 2,
     "metadata": {},
     "output_type": "execute_result"
    }
   ],
   "source": [
    "import sklearn\n",
    "sklearn.__version__"
   ]
  },
  {
   "cell_type": "code",
   "execution_count": 3,
   "metadata": {},
   "outputs": [],
   "source": [
    "pd.set_option('display.max_columns', 100)\n",
    "RANDOM_STATE = 0"
   ]
  },
  {
   "cell_type": "markdown",
   "metadata": {},
   "source": [
    "### These are the packages I used"
   ]
  },
  {
   "cell_type": "code",
   "execution_count": 4,
   "metadata": {},
   "outputs": [],
   "source": [
    "# Your package imports here"
   ]
  },
  {
   "cell_type": "code",
   "execution_count": 5,
   "metadata": {},
   "outputs": [],
   "source": [
    "import warnings\n",
    "warnings.filterwarnings('ignore')"
   ]
  },
  {
   "cell_type": "markdown",
   "metadata": {},
   "source": [
    "> NOTE: For the Kernel RBF SVM hyper parameter tuning use these parameters in the questions:\n",
    "        \n",
    "        'C': [1, 10, 100, 1000]\n",
    "        'gamma': [0.001, 0.01, 0.1, 1]"
   ]
  },
  {
   "cell_type": "markdown",
   "metadata": {},
   "source": [
    "## Q1 [10]\n",
    "- Read in the dataset\n",
    "- How many rows and variables are there?\n"
   ]
  },
  {
   "cell_type": "markdown",
   "metadata": {},
   "source": [
    "#### Get the Data\n",
    "\n",
    "**Use pandas to read in the datasets as a dataframe.**"
   ]
  },
  {
   "cell_type": "code",
   "execution_count": 6,
   "metadata": {},
   "outputs": [],
   "source": [
    "df = pd.read_csv('gas_emissions.csv')"
   ]
  },
  {
   "cell_type": "code",
   "execution_count": 7,
   "metadata": {},
   "outputs": [
    {
     "data": {
      "text/html": [
       "<div>\n",
       "<style scoped>\n",
       "    .dataframe tbody tr th:only-of-type {\n",
       "        vertical-align: middle;\n",
       "    }\n",
       "\n",
       "    .dataframe tbody tr th {\n",
       "        vertical-align: top;\n",
       "    }\n",
       "\n",
       "    .dataframe thead th {\n",
       "        text-align: right;\n",
       "    }\n",
       "</style>\n",
       "<table border=\"1\" class=\"dataframe\">\n",
       "  <thead>\n",
       "    <tr style=\"text-align: right;\">\n",
       "      <th></th>\n",
       "      <th>AT</th>\n",
       "      <th>AP</th>\n",
       "      <th>AH</th>\n",
       "      <th>AFDP</th>\n",
       "      <th>GTEP</th>\n",
       "      <th>TIT</th>\n",
       "      <th>TAT</th>\n",
       "      <th>TEY</th>\n",
       "      <th>CDP</th>\n",
       "      <th>CO</th>\n",
       "      <th>NOX</th>\n",
       "    </tr>\n",
       "  </thead>\n",
       "  <tbody>\n",
       "    <tr>\n",
       "      <th>0</th>\n",
       "      <td>1.95320</td>\n",
       "      <td>1020.1</td>\n",
       "      <td>84.985</td>\n",
       "      <td>2.5304</td>\n",
       "      <td>20.116</td>\n",
       "      <td>1048.7</td>\n",
       "      <td>544.92</td>\n",
       "      <td>116.27</td>\n",
       "      <td>10.799</td>\n",
       "      <td>7.4491</td>\n",
       "      <td>113.250</td>\n",
       "    </tr>\n",
       "    <tr>\n",
       "      <th>1</th>\n",
       "      <td>1.21910</td>\n",
       "      <td>1020.1</td>\n",
       "      <td>87.523</td>\n",
       "      <td>2.3937</td>\n",
       "      <td>18.584</td>\n",
       "      <td>1045.5</td>\n",
       "      <td>548.50</td>\n",
       "      <td>109.18</td>\n",
       "      <td>10.347</td>\n",
       "      <td>6.4684</td>\n",
       "      <td>112.020</td>\n",
       "    </tr>\n",
       "    <tr>\n",
       "      <th>2</th>\n",
       "      <td>0.94915</td>\n",
       "      <td>1022.2</td>\n",
       "      <td>78.335</td>\n",
       "      <td>2.7789</td>\n",
       "      <td>22.264</td>\n",
       "      <td>1068.8</td>\n",
       "      <td>549.95</td>\n",
       "      <td>125.88</td>\n",
       "      <td>11.256</td>\n",
       "      <td>3.6335</td>\n",
       "      <td>88.147</td>\n",
       "    </tr>\n",
       "    <tr>\n",
       "      <th>3</th>\n",
       "      <td>1.00750</td>\n",
       "      <td>1021.7</td>\n",
       "      <td>76.942</td>\n",
       "      <td>2.8170</td>\n",
       "      <td>23.358</td>\n",
       "      <td>1075.2</td>\n",
       "      <td>549.63</td>\n",
       "      <td>132.21</td>\n",
       "      <td>11.702</td>\n",
       "      <td>3.1972</td>\n",
       "      <td>87.078</td>\n",
       "    </tr>\n",
       "    <tr>\n",
       "      <th>4</th>\n",
       "      <td>1.28580</td>\n",
       "      <td>1021.6</td>\n",
       "      <td>76.732</td>\n",
       "      <td>2.8377</td>\n",
       "      <td>23.483</td>\n",
       "      <td>1076.2</td>\n",
       "      <td>549.68</td>\n",
       "      <td>133.58</td>\n",
       "      <td>11.737</td>\n",
       "      <td>2.3833</td>\n",
       "      <td>82.515</td>\n",
       "    </tr>\n",
       "  </tbody>\n",
       "</table>\n",
       "</div>"
      ],
      "text/plain": [
       "        AT      AP      AH    AFDP    GTEP     TIT     TAT     TEY     CDP  \\\n",
       "0  1.95320  1020.1  84.985  2.5304  20.116  1048.7  544.92  116.27  10.799   \n",
       "1  1.21910  1020.1  87.523  2.3937  18.584  1045.5  548.50  109.18  10.347   \n",
       "2  0.94915  1022.2  78.335  2.7789  22.264  1068.8  549.95  125.88  11.256   \n",
       "3  1.00750  1021.7  76.942  2.8170  23.358  1075.2  549.63  132.21  11.702   \n",
       "4  1.28580  1021.6  76.732  2.8377  23.483  1076.2  549.68  133.58  11.737   \n",
       "\n",
       "       CO      NOX  \n",
       "0  7.4491  113.250  \n",
       "1  6.4684  112.020  \n",
       "2  3.6335   88.147  \n",
       "3  3.1972   87.078  \n",
       "4  2.3833   82.515  "
      ]
     },
     "execution_count": 7,
     "metadata": {},
     "output_type": "execute_result"
    }
   ],
   "source": [
    "df.head()"
   ]
  },
  {
   "cell_type": "markdown",
   "metadata": {},
   "source": [
    "#### Is there any missing data?"
   ]
  },
  {
   "cell_type": "code",
   "execution_count": 8,
   "metadata": {},
   "outputs": [
    {
     "data": {
      "text/plain": [
       "AT      0\n",
       "AP      0\n",
       "AH      0\n",
       "AFDP    0\n",
       "GTEP    0\n",
       "TIT     0\n",
       "TAT     0\n",
       "TEY     0\n",
       "CDP     0\n",
       "CO      0\n",
       "NOX     0\n",
       "dtype: int64"
      ]
     },
     "execution_count": 8,
     "metadata": {},
     "output_type": "execute_result"
    }
   ],
   "source": [
    "df.isnull().sum()"
   ]
  },
  {
   "cell_type": "markdown",
   "metadata": {},
   "source": [
    "#### What is the average value of AP for those points who have CO levels above 3 $mg/m^3$?"
   ]
  },
  {
   "cell_type": "code",
   "execution_count": 9,
   "metadata": {},
   "outputs": [
    {
     "data": {
      "text/plain": [
       "1015.6900173490633"
      ]
     },
     "execution_count": 9,
     "metadata": {},
     "output_type": "execute_result"
    }
   ],
   "source": [
    "df.loc[df['CO']>3, 'AP'].mean()"
   ]
  },
  {
   "cell_type": "markdown",
   "metadata": {},
   "source": [
    "#### Create a correlation map between the variables. Which variables have high correlation?"
   ]
  },
  {
   "cell_type": "code",
   "execution_count": 10,
   "metadata": {},
   "outputs": [
    {
     "data": {
      "image/png": "[encoded data removed]",
      "text/plain": [
       "<Figure size 576x504 with 2 Axes>"
      ]
     },
     "metadata": {
      "needs_background": "light"
     },
     "output_type": "display_data"
    }
   ],
   "source": [
    "corr = df.corr()\n",
    "ax = plt.subplots(figsize=(8,7))\n",
    "ax = sns.heatmap(\n",
    "    corr, \n",
    "    cmap=\"coolwarm\",\n",
    "    square=True  \n",
    ")"
   ]
  },
  {
   "cell_type": "code",
   "execution_count": 11,
   "metadata": {},
   "outputs": [],
   "source": [
    "#Which variables have high correlation?\n"
   ]
  },
  {
   "cell_type": "markdown",
   "metadata": {},
   "source": [
    "#### Create a scatter plot of 'TEY' vs 'CDP'"
   ]
  },
  {
   "cell_type": "code",
   "execution_count": 12,
   "metadata": {},
   "outputs": [
    {
     "data": {
      "text/plain": [
       "<AxesSubplot:xlabel='CDP', ylabel='TEY'>"
      ]
     },
     "execution_count": 12,
     "metadata": {},
     "output_type": "execute_result"
    },
    {
     "data": {
      "image/png": "[encoded data removed]",
      "text/plain": [
       "<Figure size 432x288 with 1 Axes>"
      ]
     },
     "metadata": {
      "needs_background": "light"
     },
     "output_type": "display_data"
    }
   ],
   "source": [
    "sns.scatterplot(data = df, x='CDP', y='TEY')"
   ]
  },
  {
   "cell_type": "markdown",
   "metadata": {},
   "source": [
    "#### Create histograms for CO and NOX."
   ]
  },
  {
   "cell_type": "code",
   "execution_count": 13,
   "metadata": {},
   "outputs": [
    {
     "data": {
      "image/png": "[encoded data removed]",
      "text/plain": [
       "<Figure size 432x288 with 1 Axes>"
      ]
     },
     "metadata": {
      "needs_background": "light"
     },
     "output_type": "display_data"
    }
   ],
   "source": [
    "plt.hist(df['CO'], density=False, bins=30)\n",
    "plt.show()"
   ]
  },
  {
   "cell_type": "code",
   "execution_count": 14,
   "metadata": {},
   "outputs": [
    {
     "data": {
      "image/png": "[encoded data removed]",
      "text/plain": [
       "<Figure size 432x288 with 1 Axes>"
      ]
     },
     "metadata": {
      "needs_background": "light"
     },
     "output_type": "display_data"
    }
   ],
   "source": [
    "plt.hist(df['NOX'], density=False, bins=30)\n",
    "plt.show()"
   ]
  },
  {
   "cell_type": "markdown",
   "metadata": {},
   "source": [
    "#### Create a sctter plot of CO vs NOX."
   ]
  },
  {
   "cell_type": "code",
   "execution_count": 15,
   "metadata": {},
   "outputs": [
    {
     "data": {
      "text/plain": [
       "<AxesSubplot:xlabel='NOX', ylabel='CO'>"
      ]
     },
     "execution_count": 15,
     "metadata": {},
     "output_type": "execute_result"
    },
    {
     "data": {
      "image/png": "[encoded data removed]",
      "text/plain": [
       "<Figure size 432x288 with 1 Axes>"
      ]
     },
     "metadata": {
      "needs_background": "light"
     },
     "output_type": "display_data"
    }
   ],
   "source": [
    "sns.scatterplot(data = df, x='NOX', y='CO')"
   ]
  },
  {
   "cell_type": "markdown",
   "metadata": {},
   "source": [
    "### Prepare data from machine learning"
   ]
  },
  {
   "cell_type": "markdown",
   "metadata": {},
   "source": [
    "We will predict CO using all the other variables. NOX, which is another emission gas, will not be used as predictor."
   ]
  },
  {
   "cell_type": "code",
   "execution_count": 16,
   "metadata": {},
   "outputs": [],
   "source": [
    "y = df.CO\n",
    "X = df.drop(['CO', 'NOX'], axis=1)"
   ]
  },
  {
   "cell_type": "code",
   "execution_count": 17,
   "metadata": {},
   "outputs": [],
   "source": [
    "from sklearn.model_selection import train_test_split\n",
    "X_train, X_test, y_train, y_test = train_test_split(X, y, test_size=0.10, random_state=RANDOM_STATE)\n",
    "X_train, X_val, y_train, y_val = train_test_split(X_train, y_train, test_size=0.20, random_state=RANDOM_STATE)"
   ]
  },
  {
   "cell_type": "code",
   "execution_count": 18,
   "metadata": {},
   "outputs": [],
   "source": [
    "# Standardization of the data\n",
    "from sklearn.preprocessing import StandardScaler\n",
    "ss = StandardScaler()\n",
    "ss.fit(X_train)\n",
    "X_train = ss.transform(X_train)\n",
    "X_val = ss.transform(X_val)\n",
    "X_test = ss.transform(X_test)"
   ]
  },
  {
   "cell_type": "code",
   "execution_count": 19,
   "metadata": {},
   "outputs": [
    {
     "data": {
      "text/plain": [
       "(5316, 9)"
      ]
     },
     "execution_count": 19,
     "metadata": {},
     "output_type": "execute_result"
    }
   ],
   "source": [
    "X_train.shape"
   ]
  },
  {
   "cell_type": "code",
   "execution_count": 20,
   "metadata": {},
   "outputs": [
    {
     "data": {
      "text/plain": [
       "(1329, 9)"
      ]
     },
     "execution_count": 20,
     "metadata": {},
     "output_type": "execute_result"
    }
   ],
   "source": [
    "X_val.shape"
   ]
  },
  {
   "cell_type": "code",
   "execution_count": 21,
   "metadata": {},
   "outputs": [
    {
     "data": {
      "text/plain": [
       "(739, 9)"
      ]
     },
     "execution_count": 21,
     "metadata": {},
     "output_type": "execute_result"
    }
   ],
   "source": [
    "X_test.shape"
   ]
  },
  {
   "cell_type": "markdown",
   "metadata": {},
   "source": [
    "## Utility Functions"
   ]
  },
  {
   "cell_type": "markdown",
   "metadata": {},
   "source": [
    "You can create helper functions.\n",
    "For example, create functions that take the score and store it ina dataframe for a specific model."
   ]
  },
  {
   "cell_type": "code",
   "execution_count": null,
   "metadata": {},
   "outputs": [],
   "source": []
  },
  {
   "cell_type": "markdown",
   "metadata": {},
   "source": [
    "## Q2 [10]"
   ]
  },
  {
   "cell_type": "markdown",
   "metadata": {},
   "source": [
    "- Apply Linear Regression. Predict CO emission using other variables.\n",
    "    - What is the model $R^2$ on training data?\n",
    "    - What is the $R^2$ on validation data?\n",
    "    - What is the Root Mean Squared Error (RMSE) on training data?\n",
    "    - What is the RMSE on validation data?\n",
    "    \n",
    "> - $R^2$ higher is better. ($R^2$ is % variation in data being explained)  \n",
    "> - RMSE lower is better. (RMSE is error, meaning the difference between predictions and actual data)  \n",
    "\n",
    "Hint:  \n",
    "- You can use the `r2_score` and `mean_squared_error` methods in `sklearn.metrics`.   \n",
    "- You need to take the square root of Mean Squared Error to get to RMSE. (MSE $->$ square root $->$ RMSE)"
   ]
  },
  {
   "cell_type": "code",
   "execution_count": 22,
   "metadata": {},
   "outputs": [],
   "source": [
    "from sklearn.linear_model import LinearRegression\n",
    "from sklearn import metrics"
   ]
  },
  {
   "cell_type": "code",
   "execution_count": 23,
   "metadata": {},
   "outputs": [
    {
     "data": {
      "text/plain": [
       "LinearRegression()"
      ]
     },
     "execution_count": 23,
     "metadata": {},
     "output_type": "execute_result"
    }
   ],
   "source": [
    "# CODE\n",
    "linearR = LinearRegression()\n",
    "linearR.fit(X_train, y_train)"
   ]
  },
  {
   "cell_type": "code",
   "execution_count": 24,
   "metadata": {},
   "outputs": [
    {
     "name": "stdout",
     "output_type": "stream",
     "text": [
      "R^2 on training data:  0.6640090820784397\n",
      "R^2 on validation data:  0.646343190818214\n"
     ]
    }
   ],
   "source": [
    "#What is the model R^2 on training data?\n",
    "#What is the R^2 on validation data?\n",
    "pred_train = linearR.predict(X_train)\n",
    "pred_val = linearR.predict(X_val)\n",
    "\n",
    "r2_train = metrics.r2_score(y_train, pred_train)\n",
    "r2_val = metrics.r2_score(y_val, pred_val)\n",
    "print(\"R^2 on training data: \", r2_train )\n",
    "print(\"R^2 on validation data: \",r2_val)"
   ]
  },
  {
   "cell_type": "code",
   "execution_count": 25,
   "metadata": {},
   "outputs": [
    {
     "name": "stdout",
     "output_type": "stream",
     "text": [
      "RMSE on training data:  1.2720122104103535\n",
      "RMSE on validation data:  1.3884894690085985\n"
     ]
    }
   ],
   "source": [
    "#What is the Root Mean Squared Error (RMSE) on training data?\n",
    "#What is the RMSE on validation data?\n",
    "from math import sqrt\n",
    "rmse_train = sqrt(metrics.mean_squared_error(y_train, pred_train))\n",
    "rmse_val = sqrt(metrics.mean_squared_error(y_val, pred_val))\n",
    "\n",
    "print(\"RMSE on training data: \", rmse_train)\n",
    "print(\"RMSE on validation data: \",rmse_val)"
   ]
  },
  {
   "cell_type": "markdown",
   "metadata": {},
   "source": [
    "## Q3 [10]"
   ]
  },
  {
   "cell_type": "markdown",
   "metadata": {},
   "source": [
    "- Apply Random Forest Regression with 100 trees. Predict CO emission using other variables.\n",
    "    - What is the model $R^2$?\n",
    "    - What is the $R^2$ on validation data?\n",
    "    - What is the RMSE on training data?\n",
    "    - What is the RMSE on validation data?\n",
    "\n",
    "- Is training and validation score close? If not what might be the problem?\n",
    "- If there is a large gap, try to decrease the gap by changing some hyperparameters of the Random Forest model. (In this analysis, any difference more than 0.10 $R^2$ difference can be assumed to be large.)\n",
    "    - Once you reach a difference of less than or close to 0.10 between training $R^2$ and validation $R^2$ you can stop. \n",
    "    - During this process your training score will probably decrease, and that is OK. "
   ]
  },
  {
   "cell_type": "code",
   "execution_count": 26,
   "metadata": {},
   "outputs": [],
   "source": [
    "from sklearn.ensemble import RandomForestRegressor"
   ]
  },
  {
   "cell_type": "code",
   "execution_count": 27,
   "metadata": {},
   "outputs": [
    {
     "data": {
      "text/plain": [
       "RandomForestRegressor(random_state=42)"
      ]
     },
     "execution_count": 27,
     "metadata": {},
     "output_type": "execute_result"
    }
   ],
   "source": [
    "# CODE\n",
    "randomFR = RandomForestRegressor(n_estimators=100, random_state=42)\n",
    "randomFR.fit(X_train, y_train)"
   ]
  },
  {
   "cell_type": "code",
   "execution_count": 28,
   "metadata": {},
   "outputs": [
    {
     "name": "stdout",
     "output_type": "stream",
     "text": [
      "R^2 on training data:  0.966747859625149\n",
      "R^2 on validation data:  0.7548636349625206\n"
     ]
    }
   ],
   "source": [
    "#What is the model R^2 on training data?\n",
    "#What is the R^2 on validation data?\n",
    "pred_train = randomFR.predict(X_train)\n",
    "pred_val = randomFR.predict(X_val)\n",
    "\n",
    "r2_train = metrics.r2_score(y_train, pred_train)\n",
    "r2_val = metrics.r2_score(y_val, pred_val)\n",
    "print(\"R^2 on training data: \", r2_train )\n",
    "print(\"R^2 on validation data: \",r2_val)"
   ]
  },
  {
   "cell_type": "code",
   "execution_count": 29,
   "metadata": {},
   "outputs": [
    {
     "name": "stdout",
     "output_type": "stream",
     "text": [
      "RMSE on training data:  0.4001633533170932\n",
      "RMSE on validation data:  1.1559936515436304\n"
     ]
    }
   ],
   "source": [
    "#What is the Root Mean Squared Error (RMSE) on training data?\n",
    "#What is the RMSE on validation data?\n",
    "rmse_train = sqrt(metrics.mean_squared_error(y_train, pred_train))\n",
    "rmse_val = sqrt(metrics.mean_squared_error(y_val, pred_val))\n",
    "\n",
    "print(\"RMSE on training data: \", rmse_train)\n",
    "print(\"RMSE on validation data: \",rmse_val)"
   ]
  },
  {
   "cell_type": "code",
   "execution_count": 30,
   "metadata": {},
   "outputs": [],
   "source": [
    "# The R^2 on training data is 96.67% and R^2 on validation data is 75.49%. The difference is significantly big. \n",
    "# The rmse on training data is 0.4 and on validation data is 1.16. The difference on RMSE is also significantly big.\n",
    "# From the numbers, the random forest regression model might have the overfitting problem."
   ]
  },
  {
   "cell_type": "code",
   "execution_count": 31,
   "metadata": {},
   "outputs": [],
   "source": [
    "#decrease the gap by changing some hyperparameters of the Random Forest model.\n",
    "from sklearn.model_selection import GridSearchCV\n",
    "params = {'n_estimators': [5, 10, 30, 50, 70, 100, 150],\n",
    "          'max_depths': [2, 4, 8, 10, 30, 50, 100]}"
   ]
  },
  {
   "cell_type": "code",
   "execution_count": 32,
   "metadata": {},
   "outputs": [],
   "source": [
    "temp = []\n",
    "for n_estimator in params['n_estimators']:\n",
    "    for max_depth in params['max_depths']:\n",
    "        newrf = RandomForestRegressor(n_estimators = n_estimator,max_depth = max_depth)\n",
    "        newrf.fit(X_train, y_train)\n",
    "            \n",
    "        pred_train = newrf.predict(X_train)\n",
    "        pred_val = newrf.predict(X_val)\n",
    "        r2_train = metrics.r2_score(y_train, pred_train)\n",
    "        r2_valid = metrics.r2_score(y_val, pred_val)\n",
    "            \n",
    "        if abs(r2_train-r2_val) <= 0.1:\n",
    "            temp.append((n_estimator, max_depth, r2_train, r2_valid))"
   ]
  },
  {
   "cell_type": "code",
   "execution_count": 33,
   "metadata": {},
   "outputs": [
    {
     "name": "stdout",
     "output_type": "stream",
     "text": [
      "The r^2 gap is less than or close to 0.1 when:\n",
      "n_estimator max_depth r2_train r2_valid\n",
      "5           2          0.70     0.69\n",
      "5           4          0.80     0.74\n",
      "10           2          0.71     0.69\n",
      "10           4          0.80     0.74\n",
      "30           2          0.71     0.69\n",
      "30           4          0.80     0.74\n",
      "50           2          0.71     0.69\n",
      "50           4          0.80     0.74\n",
      "70           2          0.71     0.69\n",
      "70           4          0.80     0.74\n",
      "100           2          0.71     0.69\n",
      "100           4          0.81     0.74\n",
      "150           2          0.71     0.69\n",
      "150           4          0.80     0.74\n"
     ]
    }
   ],
   "source": [
    "print('The r^2 gap is less than or close to 0.1 when:')\n",
    "print('n_estimator'+ ' ' + 'max_depth'+ ' ' + 'r2_train'+ ' ' + 'r2_valid')\n",
    "for n_estimator, max_depth, r2_train, r2_valid in temp:\n",
    "    print(str(n_estimator) + '           ' + str(max_depth) + '          ' + str(\"{:.2f}\".format(r2_train) )+ '     ' + str(\"{:.2f}\".format(r2_valid)))"
   ]
  },
  {
   "cell_type": "markdown",
   "metadata": {},
   "source": [
    "## Q4 [10]"
   ]
  },
  {
   "cell_type": "markdown",
   "metadata": {},
   "source": [
    "- Apply Support Vector Regression. Predict CO emission using other variables.\n",
    "    - What is the model $R^2$?\n",
    "    - What is the $R^2$ on validation data?\n",
    "    - What is the RMSE on training data?\n",
    "    - What is the RMSE on validation data?\n",
    "    \n",
    "- Apply the process above using **linear kernel SVR**, **polynomial kernel SVR**, and **RBF kernel SVR** with the default parameters.\n",
    "\n",
    "- Take RBF Kernel SVM and perform some hyperparameter tuning. See if you can increase the $R^2$ score.   \n",
    "    - Use:  \n",
    "          'C': [1, 10, 100, 1000]\n",
    "          'gamma': [0.001, 0.01, 0.1, 1]  \n",
    "    - During this process this make sure it doesn't overfit the data. \n",
    "    - Look into the `C` and `gamma` values."
   ]
  },
  {
   "cell_type": "code",
   "execution_count": 34,
   "metadata": {},
   "outputs": [],
   "source": [
    "from sklearn.svm import SVR"
   ]
  },
  {
   "cell_type": "markdown",
   "metadata": {},
   "source": [
    "#### linear kernel SVR"
   ]
  },
  {
   "cell_type": "code",
   "execution_count": 35,
   "metadata": {},
   "outputs": [
    {
     "data": {
      "text/plain": [
       "SVR(kernel='linear')"
      ]
     },
     "execution_count": 35,
     "metadata": {},
     "output_type": "execute_result"
    }
   ],
   "source": [
    "SVR_reg = SVR(kernel='linear')\n",
    "SVR_reg.fit(X_train, y_train)"
   ]
  },
  {
   "cell_type": "code",
   "execution_count": 36,
   "metadata": {},
   "outputs": [
    {
     "name": "stdout",
     "output_type": "stream",
     "text": [
      "R2 on training data:  0.6244509939105645\n",
      "R2 on validation data:  0.6021866187568015\n"
     ]
    }
   ],
   "source": [
    "#What is the model R^2 on training data?\n",
    "#What is the R^2 on validation data?\n",
    "pred_train = SVR_reg.predict(X_train)\n",
    "pred_val = SVR_reg.predict(X_val)\n",
    "\n",
    "r2_train = metrics.r2_score(y_train, pred_train)\n",
    "r2_val = metrics.r2_score(y_val, pred_val)\n",
    "print(\"R2 on training data: \", r2_train )\n",
    "print(\"R2 on validation data: \",r2_val)"
   ]
  },
  {
   "cell_type": "code",
   "execution_count": 37,
   "metadata": {},
   "outputs": [
    {
     "name": "stdout",
     "output_type": "stream",
     "text": [
      "RMSE on training data:  1.344809658561098\n",
      "RMSE on validation data:  1.4726219576265938\n"
     ]
    }
   ],
   "source": [
    "#What is the Root Mean Squared Error (RMSE) on training data?\n",
    "#What is the RMSE on validation data?\n",
    "rmse_train = sqrt(metrics.mean_squared_error(y_train, pred_train))\n",
    "rmse_val = sqrt(metrics.mean_squared_error(y_val, pred_val))\n",
    "\n",
    "print(\"RMSE on training data: \", rmse_train)\n",
    "print(\"RMSE on validation data: \",rmse_val)"
   ]
  },
  {
   "cell_type": "markdown",
   "metadata": {},
   "source": [
    "#### polynomial kernel SVR "
   ]
  },
  {
   "cell_type": "code",
   "execution_count": 38,
   "metadata": {},
   "outputs": [
    {
     "data": {
      "text/plain": [
       "SVR(kernel='poly')"
      ]
     },
     "execution_count": 38,
     "metadata": {},
     "output_type": "execute_result"
    }
   ],
   "source": [
    "KSVR_reg = SVR(kernel='poly')\n",
    "KSVR_reg.fit(X_train, y_train)"
   ]
  },
  {
   "cell_type": "code",
   "execution_count": 39,
   "metadata": {},
   "outputs": [
    {
     "name": "stdout",
     "output_type": "stream",
     "text": [
      "R2 on training data:  0.7404852376508437\n",
      "R2 on validation data:  0.7310487212257788\n"
     ]
    }
   ],
   "source": [
    "#What is the model R^2 on training data?\n",
    "#What is the R^2 on validation data?\n",
    "pred_train = KSVR_reg.predict(X_train)\n",
    "pred_val = KSVR_reg.predict(X_val)\n",
    "\n",
    "r2_train = metrics.r2_score(y_train, pred_train)\n",
    "r2_val = metrics.r2_score(y_val, pred_val)\n",
    "print(\"R2 on training data: \", r2_train )\n",
    "print(\"R2 on validation data: \",r2_val)"
   ]
  },
  {
   "cell_type": "code",
   "execution_count": 40,
   "metadata": {},
   "outputs": [
    {
     "name": "stdout",
     "output_type": "stream",
     "text": [
      "RMSE on training data:  1.1179143857689002\n",
      "RMSE on validation data:  1.2108445318365113\n"
     ]
    }
   ],
   "source": [
    "#What is the Root Mean Squared Error (RMSE) on training data?\n",
    "#What is the RMSE on validation data?\n",
    "rmse_train = sqrt(metrics.mean_squared_error(y_train, pred_train))\n",
    "rmse_val = sqrt(metrics.mean_squared_error(y_val, pred_val))\n",
    "\n",
    "print(\"RMSE on training data: \", rmse_train)\n",
    "print(\"RMSE on validation data: \",rmse_val)"
   ]
  },
  {
   "cell_type": "markdown",
   "metadata": {},
   "source": [
    "#### RBF kernel SVR"
   ]
  },
  {
   "cell_type": "code",
   "execution_count": 41,
   "metadata": {},
   "outputs": [
    {
     "data": {
      "text/plain": [
       "SVR()"
      ]
     },
     "execution_count": 41,
     "metadata": {},
     "output_type": "execute_result"
    }
   ],
   "source": [
    "rbfSVR_reg = SVR(kernel='rbf')\n",
    "rbfSVR_reg.fit(X_train, y_train)"
   ]
  },
  {
   "cell_type": "code",
   "execution_count": 42,
   "metadata": {},
   "outputs": [
    {
     "name": "stdout",
     "output_type": "stream",
     "text": [
      "R2 on training data:  0.7653237087525571\n",
      "R2 on validation data:  0.7476206398521968\n"
     ]
    }
   ],
   "source": [
    "#What is the model R^2 on training data?\n",
    "#What is the R^2 on validation data?\n",
    "pred_train = rbfSVR_reg.predict(X_train)\n",
    "pred_val = rbfSVR_reg.predict(X_val)\n",
    "\n",
    "r2_train = metrics.r2_score(y_train, pred_train)\n",
    "r2_val = metrics.r2_score(y_val, pred_val)\n",
    "print(\"R2 on training data: \", r2_train )\n",
    "print(\"R2 on validation data: \",r2_val)"
   ]
  },
  {
   "cell_type": "code",
   "execution_count": 43,
   "metadata": {},
   "outputs": [
    {
     "name": "stdout",
     "output_type": "stream",
     "text": [
      "RMSE on training data:  1.0630706284209859\n",
      "RMSE on validation data:  1.1729472882611478\n"
     ]
    }
   ],
   "source": [
    "#What is the Root Mean Squared Error (RMSE) on training data?\n",
    "#What is the RMSE on validation data?\n",
    "rmse_train = sqrt(metrics.mean_squared_error(y_train, pred_train))\n",
    "rmse_val = sqrt(metrics.mean_squared_error(y_val, pred_val))\n",
    "\n",
    "print(\"RMSE on training data: \", rmse_train)\n",
    "print(\"RMSE on validation data: \",rmse_val)"
   ]
  },
  {
   "cell_type": "markdown",
   "metadata": {},
   "source": [
    "#### Take RBF Kernel SVM and perform some hyperparameter tuning. "
   ]
  },
  {
   "cell_type": "code",
   "execution_count": 44,
   "metadata": {},
   "outputs": [
    {
     "data": {
      "text/plain": [
       "GridSearchCV(estimator=SVR(),\n",
       "             param_grid={'C': [1, 10, 100, 1000],\n",
       "                         'gamma': [0.001, 0.01, 0.1, 1]},\n",
       "             scoring='r2')"
      ]
     },
     "execution_count": 44,
     "metadata": {},
     "output_type": "execute_result"
    }
   ],
   "source": [
    "rbfsvr = GridSearchCV(SVR(kernel='rbf'), param_grid={\"C\": [1, 10, 100, 1000], \"gamma\": [0.001, 0.01, 0.1, 1]}, scoring='r2')\n",
    "rbfsvr.fit(X_train, y_train)"
   ]
  },
  {
   "cell_type": "code",
   "execution_count": 182,
   "metadata": {},
   "outputs": [
    {
     "data": {
      "text/plain": [
       "{'C': 1000, 'gamma': 0.01}"
      ]
     },
     "execution_count": 182,
     "metadata": {},
     "output_type": "execute_result"
    }
   ],
   "source": [
    "rbfsvr.best_params_"
   ]
  },
  {
   "cell_type": "code",
   "execution_count": 183,
   "metadata": {},
   "outputs": [
    {
     "data": {
      "text/plain": [
       "0.7851026548753246"
      ]
     },
     "execution_count": 183,
     "metadata": {},
     "output_type": "execute_result"
    }
   ],
   "source": [
    "rbfsvr.best_score_"
   ]
  },
  {
   "cell_type": "code",
   "execution_count": 48,
   "metadata": {},
   "outputs": [
    {
     "name": "stdout",
     "output_type": "stream",
     "text": [
      "R2 on training data:  0.7922417333505161\n",
      "R2 on validation data:  0.7568567058132334\n"
     ]
    }
   ],
   "source": [
    "#What is the model R^2 on training data?\n",
    "#What is the R^2 on validation data?\n",
    "pred_train = rbfsvr.predict(X_train)\n",
    "pred_val = rbfsvr.predict(X_val)\n",
    "\n",
    "r2_train = metrics.r2_score(y_train, pred_train)\n",
    "r2_val = metrics.r2_score(y_val, pred_val)\n",
    "print(\"R2 on training data: \", r2_train )\n",
    "print(\"R2 on validation data: \",r2_val)"
   ]
  },
  {
   "cell_type": "markdown",
   "metadata": {},
   "source": [
    "## Q5 [10]"
   ]
  },
  {
   "cell_type": "markdown",
   "metadata": {},
   "source": [
    "- Apply PCA and transform the data. \n",
    "- For PCA we need to decide on the number of  components. Take sufficient number of components based on variance explained (generally it is chosen as the number of components that can explain 90% of the variance) and/or validation accuracy using the optimum RBF Kernel model obtained before.\n",
    "- Use the PCA transformed data to perform regression.\n",
    "- Apply Linear Regression, Random Forest Regression, and RBF Kernel Support Vector Regression.\n",
    "For each model:\n",
    "    - What is the model $R^2$?\n",
    "    - What is the $R^2$ on validation data?\n",
    "    - What is the RMSE on training data?\n",
    "    - What is the RMSE on validation data?\n",
    "    \n",
    "- Compare these models with their counterparts obtained before. For example: Compare PCA RBF SVR with the RBF SVR model from before. Use the best hyperparameters of the RBF SVR obtained before to fit the RBF SVR onto the PCA transformed data. Any change in performance? Please explain. \n",
    "- Perform hyperparameter tuning of RBF SVR using PCA transformed data. Any improvement?\n",
    "    - Use:  \n",
    "       'C': [1, 10, 100, 1000]  \n",
    "       'gamma': [0.001, 0.01, 0.1, 1]  \n"
   ]
  },
  {
   "cell_type": "code",
   "execution_count": 84,
   "metadata": {},
   "outputs": [],
   "source": [
    "from sklearn.decomposition import PCA"
   ]
  },
  {
   "cell_type": "code",
   "execution_count": 85,
   "metadata": {},
   "outputs": [],
   "source": [
    "pca = PCA(n_components=None)\n",
    "\n",
    "pca.fit(X_train)\n",
    "X_train_pca = pca.transform(X_train)\n",
    "X_val_pca = pca.transform(X_val)"
   ]
  },
  {
   "cell_type": "code",
   "execution_count": 86,
   "metadata": {},
   "outputs": [
    {
     "name": "stdout",
     "output_type": "stream",
     "text": [
      "[0.58158952 0.78924196 0.88751722 0.94337792 0.98704348 0.9959942\n",
      " 0.99975821 0.99992456 1.        ]\n"
     ]
    },
    {
     "data": {
      "image/png": "[encoded data removed]",
      "text/plain": [
       "<Figure size 432x288 with 1 Axes>"
      ]
     },
     "metadata": {
      "needs_background": "light"
     },
     "output_type": "display_data"
    }
   ],
   "source": [
    "print(pca.explained_variance_ratio_.cumsum())\n",
    "plt.plot(pca.explained_variance_ratio_.cumsum(), '-o');\n",
    "plt.xticks(ticks= range(X_train_pca.shape[1]), labels=[i+1 for i in range(X_train_pca.shape[1])])\n",
    "plt.xlabel('Principal Components')\n",
    "plt.ylabel('Variance Explained')\n",
    "plt.show()"
   ]
  },
  {
   "cell_type": "code",
   "execution_count": 87,
   "metadata": {},
   "outputs": [],
   "source": [
    "# Code\n",
    "#Apply PCA and transform the data.\n",
    "pca = PCA(n_components = 5)\n",
    "pca.fit(X_train)\n",
    "X_train_pca = pca.transform(X_train)\n",
    "X_val_pca = pca.transform(X_val)\n",
    "X_test_pca = pca.transform(X_test)"
   ]
  },
  {
   "cell_type": "markdown",
   "metadata": {},
   "source": [
    "#### Linear Regression"
   ]
  },
  {
   "cell_type": "code",
   "execution_count": 88,
   "metadata": {},
   "outputs": [
    {
     "data": {
      "text/plain": [
       "LinearRegression()"
      ]
     },
     "execution_count": 88,
     "metadata": {},
     "output_type": "execute_result"
    }
   ],
   "source": [
    "pca_reg = LinearRegression()\n",
    "pca_reg.fit(X_train_pca, y_train)"
   ]
  },
  {
   "cell_type": "code",
   "execution_count": 89,
   "metadata": {},
   "outputs": [
    {
     "name": "stdout",
     "output_type": "stream",
     "text": [
      "R2 on training data:  0.6557906042002006\n",
      "R2 on validation data:  0.6333206399655549\n"
     ]
    }
   ],
   "source": [
    "#What is the model R^2 on training data?\n",
    "#What is the R^2 on validation data?\n",
    "pred_train = pca_reg.predict(X_train_pca)\n",
    "pred_val = pca_reg.predict(X_val_pca)\n",
    "\n",
    "r2_train = metrics.r2_score(y_train, pred_train)\n",
    "r2_val = metrics.r2_score(y_val, pred_val)\n",
    "print(\"R2 on training data: \", r2_train )\n",
    "print(\"R2 on validation data: \",r2_val)"
   ]
  },
  {
   "cell_type": "code",
   "execution_count": 90,
   "metadata": {},
   "outputs": [
    {
     "name": "stdout",
     "output_type": "stream",
     "text": [
      "RMSE on training data:  1.2874751982855395\n",
      "RMSE on validation data:  1.413822244602062\n"
     ]
    }
   ],
   "source": [
    "#What is the Root Mean Squared Error (RMSE) on training data?\n",
    "#What is the RMSE on validation data?\n",
    "rmse_train = sqrt(metrics.mean_squared_error(y_train, pred_train))\n",
    "rmse_val = sqrt(metrics.mean_squared_error(y_val, pred_val))\n",
    "\n",
    "print(\"RMSE on training data: \", rmse_train)\n",
    "print(\"RMSE on validation data: \",rmse_val)"
   ]
  },
  {
   "cell_type": "markdown",
   "metadata": {},
   "source": [
    "#### Random Forest Regression"
   ]
  },
  {
   "cell_type": "code",
   "execution_count": 91,
   "metadata": {},
   "outputs": [
    {
     "data": {
      "text/plain": [
       "RandomForestRegressor(random_state=0)"
      ]
     },
     "execution_count": 91,
     "metadata": {},
     "output_type": "execute_result"
    }
   ],
   "source": [
    "rf_reg = RandomForestRegressor(n_estimators=100, random_state= RANDOM_STATE)\n",
    "rf_reg.fit(X_train_pca, y_train)"
   ]
  },
  {
   "cell_type": "code",
   "execution_count": 92,
   "metadata": {},
   "outputs": [
    {
     "name": "stdout",
     "output_type": "stream",
     "text": [
      "R2 on training data:  0.9631010677885874\n",
      "R2 on validation data:  0.7374990210792542\n"
     ]
    }
   ],
   "source": [
    "#What is the model R^2 on training data?\n",
    "#What is the R^2 on validation data?\n",
    "pred_train = rf_reg.predict(X_train_pca)\n",
    "pred_val = rf_reg.predict(X_val_pca)\n",
    "\n",
    "r2_train = metrics.r2_score(y_train, pred_train)\n",
    "r2_val = metrics.r2_score(y_val, pred_val)\n",
    "print(\"R2 on training data: \", r2_train )\n",
    "print(\"R2 on validation data: \",r2_val)"
   ]
  },
  {
   "cell_type": "code",
   "execution_count": 93,
   "metadata": {},
   "outputs": [
    {
     "name": "stdout",
     "output_type": "stream",
     "text": [
      "RMSE on training data:  0.4215357479292904\n",
      "RMSE on validation data:  1.196236478242819\n"
     ]
    }
   ],
   "source": [
    "#What is the Root Mean Squared Error (RMSE) on training data?\n",
    "#What is the RMSE on validation data?\n",
    "rmse_train = sqrt(metrics.mean_squared_error(y_train, pred_train))\n",
    "rmse_val = sqrt(metrics.mean_squared_error(y_val, pred_val))\n",
    "\n",
    "print(\"RMSE on training data: \", rmse_train)\n",
    "print(\"RMSE on validation data: \",rmse_val)"
   ]
  },
  {
   "cell_type": "markdown",
   "metadata": {},
   "source": [
    "#### RBF Kernel Support Vector Regression"
   ]
  },
  {
   "cell_type": "code",
   "execution_count": 94,
   "metadata": {},
   "outputs": [
    {
     "data": {
      "text/plain": [
       "SVR(C=1000, gamma=0.01)"
      ]
     },
     "execution_count": 94,
     "metadata": {},
     "output_type": "execute_result"
    }
   ],
   "source": [
    "svr_reg = SVR(kernel='rbf', C=1000, gamma=0.01)\n",
    "svr_reg.fit(X_train_pca, y_train)"
   ]
  },
  {
   "cell_type": "code",
   "execution_count": 95,
   "metadata": {},
   "outputs": [
    {
     "name": "stdout",
     "output_type": "stream",
     "text": [
      "R2 on training data:  0.785297815333706\n",
      "R2 on validation data:  0.7520177672123047\n"
     ]
    }
   ],
   "source": [
    "#What is the model R^2 on training data?\n",
    "#What is the R^2 on validation data?\n",
    "pred_train = svr_reg.predict(X_train_pca)\n",
    "pred_val = svr_reg.predict(X_val_pca)\n",
    "\n",
    "r2_train = metrics.r2_score(y_train, pred_train)\n",
    "r2_val = metrics.r2_score(y_val, pred_val)\n",
    "print(\"R2 on training data: \", r2_train )\n",
    "print(\"R2 on validation data: \",r2_val)"
   ]
  },
  {
   "cell_type": "code",
   "execution_count": 96,
   "metadata": {},
   "outputs": [
    {
     "name": "stdout",
     "output_type": "stream",
     "text": [
      "RMSE on training data:  1.0168238937503595\n",
      "RMSE on validation data:  1.162684441733868\n"
     ]
    }
   ],
   "source": [
    "#What is the Root Mean Squared Error (RMSE) on training data?\n",
    "#What is the RMSE on validation data?\n",
    "rmse_train = sqrt(metrics.mean_squared_error(y_train, pred_train))\n",
    "rmse_val = sqrt(metrics.mean_squared_error(y_val, pred_val))\n",
    "\n",
    "print(\"RMSE on training data: \", rmse_train)\n",
    "print(\"RMSE on validation data: \",rmse_val)"
   ]
  },
  {
   "cell_type": "markdown",
   "metadata": {},
   "source": [
    "#### Perform hyperparameter tuning of RBF SVR using PCA transformed data."
   ]
  },
  {
   "cell_type": "code",
   "execution_count": 97,
   "metadata": {},
   "outputs": [
    {
     "data": {
      "text/plain": [
       "GridSearchCV(estimator=SVR(),\n",
       "             param_grid={'C': [1, 10, 100, 1000],\n",
       "                         'gamma': [0.001, 0.01, 0.1, 1]},\n",
       "             scoring='r2')"
      ]
     },
     "execution_count": 97,
     "metadata": {},
     "output_type": "execute_result"
    }
   ],
   "source": [
    "svrreg = GridSearchCV(SVR(kernel='rbf'),param_grid={\"C\": [1, 10, 100, 1000],\"gamma\": [0.001, 0.01, 0.1, 1]}, scoring='r2')\n",
    "svrreg.fit(X_train_pca, y_train)"
   ]
  },
  {
   "cell_type": "code",
   "execution_count": 99,
   "metadata": {},
   "outputs": [
    {
     "data": {
      "text/plain": [
       "{'C': 1000, 'gamma': 0.01}"
      ]
     },
     "execution_count": 99,
     "metadata": {},
     "output_type": "execute_result"
    }
   ],
   "source": [
    "svrreg.best_params_"
   ]
  },
  {
   "cell_type": "code",
   "execution_count": 100,
   "metadata": {},
   "outputs": [
    {
     "name": "stdout",
     "output_type": "stream",
     "text": [
      "R2 on training data:  0.785297815333706\n",
      "R2 on validation data:  0.7520177672123047\n"
     ]
    }
   ],
   "source": [
    "#What is the model R^2 on training data?\n",
    "#What is the R^2 on validation data?\n",
    "pred_train = svrreg.predict(X_train_pca)\n",
    "pred_val = svrreg.predict(X_val_pca)\n",
    "\n",
    "r2_train = metrics.r2_score(y_train, pred_train)\n",
    "r2_val = metrics.r2_score(y_val, pred_val)\n",
    "print(\"R2 on training data: \", r2_train )\n",
    "print(\"R2 on validation data: \",r2_val)"
   ]
  },
  {
   "cell_type": "markdown",
   "metadata": {},
   "source": [
    "## Q6 [10]"
   ]
  },
  {
   "cell_type": "markdown",
   "metadata": {},
   "source": [
    "- Apply Kernel PCA (KPCA) and transform the data. \n",
    "- After the kernel transformation of your data, the vectors live in a high dimensional feature space. (Assuming there were N rows in the data, this will mean NxN space)\n",
    "    - That's why in KPCA you will (in many cases) have more dimensions than your original number of features! \n",
    "    - The full returned matrix will be NxN size. \n",
    "    - Here we will select 50 components to cut on training time, otherwise it might take too long.\n",
    "    - Optional: You can start with let's say 500 components, and then find a more optimal value by checking the validation score of a model (RF, SVR, etc.) using different number of components.\n",
    "- Use the KPCA transformed data to perform regression.\n",
    "- Now apply Linear Regression, Random Forest Regression, and RBF Kernel Support Vector Regression.\n",
    "For each model:\n",
    "    - What is the model $R^2$?\n",
    "    - What is the $R^2$ on validation data?\n",
    "    - What is the RMSE on training data?\n",
    "    - What is the RMSE on validation data?\n",
    "    \n",
    "- Compare these models with their counterparts fit on the standardized data, and PCA transformed data. For example: Compare KPCA SVR with SVR and PCA SVR from before. Use the best hyperparameters obtained from the experiments before. \n",
    "    - Is there any change in performance when compared to models trained on original data? Please explain. \n",
    "    - Is there any change in performance when compared to models trained on PCA transformed data? Please explain. \n",
    "    \n",
    "- Perform hyperparameter tuning of SVR using KPCA transformed data. Any improvement?\n",
    "\n",
    "======== \n",
    "- What is your conclusion considering all the regression models? Which one would you choose as your final contender?"
   ]
  },
  {
   "cell_type": "code",
   "execution_count": 101,
   "metadata": {},
   "outputs": [],
   "source": [
    "from sklearn.decomposition import KernelPCA"
   ]
  },
  {
   "cell_type": "code",
   "execution_count": 102,
   "metadata": {},
   "outputs": [],
   "source": [
    "kpca = KernelPCA(n_components=500, kernel='rbf', n_jobs=-1, remove_zero_eig=True, random_state=RANDOM_STATE)\n",
    "kpca.fit(X_train)\n",
    "X_train_kpca = kpca.transform(X_train)\n",
    "X_val_kpca = kpca.transform(X_val)"
   ]
  },
  {
   "cell_type": "code",
   "execution_count": 103,
   "metadata": {},
   "outputs": [],
   "source": [
    "X_train_kpca2 = X_train_kpca[:, 0:50]\n",
    "X_val_kpca2 = X_val_kpca[:, 0:50]"
   ]
  },
  {
   "cell_type": "markdown",
   "metadata": {},
   "source": [
    "#### Linear Regression"
   ]
  },
  {
   "cell_type": "code",
   "execution_count": 104,
   "metadata": {},
   "outputs": [
    {
     "data": {
      "text/plain": [
       "LinearRegression()"
      ]
     },
     "execution_count": 104,
     "metadata": {},
     "output_type": "execute_result"
    }
   ],
   "source": [
    "# CODE\n",
    "linear_reg = LinearRegression()\n",
    "linear_reg.fit(X_train_kpca2, y_train)"
   ]
  },
  {
   "cell_type": "code",
   "execution_count": 105,
   "metadata": {},
   "outputs": [
    {
     "name": "stdout",
     "output_type": "stream",
     "text": [
      "R2 on training data:  0.7513693063367319\n",
      "R2 on validation data:  0.736145619912268\n"
     ]
    }
   ],
   "source": [
    "#What is the model R^2 on training data?\n",
    "#What is the R^2 on validation data?\n",
    "pred_train = linear_reg.predict(X_train_kpca2)\n",
    "pred_val = linear_reg.predict(X_val_kpca2)\n",
    "\n",
    "r2_train = metrics.r2_score(y_train, pred_train)\n",
    "r2_val = metrics.r2_score(y_val, pred_val)\n",
    "print(\"R2 on training data: \", r2_train )\n",
    "print(\"R2 on validation data: \",r2_val)"
   ]
  },
  {
   "cell_type": "code",
   "execution_count": 106,
   "metadata": {},
   "outputs": [
    {
     "name": "stdout",
     "output_type": "stream",
     "text": [
      "RMSE on training data:  1.0942205881809457\n",
      "RMSE on validation data:  1.1993162885016249\n"
     ]
    }
   ],
   "source": [
    "#What is the Root Mean Squared Error (RMSE) on training data?\n",
    "#What is the RMSE on validation data?\n",
    "rmse_train = sqrt(metrics.mean_squared_error(y_train, pred_train))\n",
    "rmse_val = sqrt(metrics.mean_squared_error(y_val, pred_val))\n",
    "\n",
    "print(\"RMSE on training data: \", rmse_train)\n",
    "print(\"RMSE on validation data: \",rmse_val)"
   ]
  },
  {
   "cell_type": "markdown",
   "metadata": {},
   "source": [
    "####  Random Forest Regression"
   ]
  },
  {
   "cell_type": "code",
   "execution_count": 107,
   "metadata": {},
   "outputs": [
    {
     "data": {
      "text/plain": [
       "RandomForestRegressor(random_state=0)"
      ]
     },
     "execution_count": 107,
     "metadata": {},
     "output_type": "execute_result"
    }
   ],
   "source": [
    "rf_reg = RandomForestRegressor(n_estimators=100, random_state= RANDOM_STATE)\n",
    "rf_reg.fit(X_train_kpca2, y_train)"
   ]
  },
  {
   "cell_type": "code",
   "execution_count": 108,
   "metadata": {},
   "outputs": [
    {
     "name": "stdout",
     "output_type": "stream",
     "text": [
      "R2 on training data:  0.9632153146438154\n",
      "R2 on validation data:  0.7533417609522715\n"
     ]
    }
   ],
   "source": [
    "#What is the model R^2 on training data?\n",
    "#What is the R^2 on validation data?\n",
    "pred_train = rf_reg.predict(X_train_kpca2)\n",
    "pred_val = rf_reg.predict(X_val_kpca2)\n",
    "\n",
    "r2_train = metrics.r2_score(y_train, pred_train)\n",
    "r2_val = metrics.r2_score(y_val, pred_val)\n",
    "print(\"R2 on training data: \", r2_train )\n",
    "print(\"R2 on validation data: \",r2_val)"
   ]
  },
  {
   "cell_type": "code",
   "execution_count": 109,
   "metadata": {},
   "outputs": [
    {
     "name": "stdout",
     "output_type": "stream",
     "text": [
      "RMSE on training data:  0.4208826603437951\n",
      "RMSE on validation data:  1.1595764627245213\n"
     ]
    }
   ],
   "source": [
    "#What is the Root Mean Squared Error (RMSE) on training data?\n",
    "#What is the RMSE on validation data?\n",
    "rmse_train = sqrt(metrics.mean_squared_error(y_train, pred_train))\n",
    "rmse_val = sqrt(metrics.mean_squared_error(y_val, pred_val))\n",
    "\n",
    "print(\"RMSE on training data: \", rmse_train)\n",
    "print(\"RMSE on validation data: \",rmse_val)"
   ]
  },
  {
   "cell_type": "markdown",
   "metadata": {},
   "source": [
    "#### RBF Kernel Support Vector Regression"
   ]
  },
  {
   "cell_type": "code",
   "execution_count": 110,
   "metadata": {},
   "outputs": [
    {
     "data": {
      "text/plain": [
       "SVR(C=1000, gamma=0.01)"
      ]
     },
     "execution_count": 110,
     "metadata": {},
     "output_type": "execute_result"
    }
   ],
   "source": [
    "svr_reg = SVR(kernel='rbf', C=1000, gamma=0.01)\n",
    "svr_reg.fit(X_train_kpca2, y_train)"
   ]
  },
  {
   "cell_type": "code",
   "execution_count": 111,
   "metadata": {},
   "outputs": [
    {
     "name": "stdout",
     "output_type": "stream",
     "text": [
      "R2 on training data:  0.7561273682500529\n",
      "R2 on validation data:  0.7448794733460913\n"
     ]
    }
   ],
   "source": [
    "#What is the model R^2 on training data?\n",
    "#What is the R^2 on validation data?\n",
    "pred_train = svr_reg.predict(X_train_kpca2)\n",
    "pred_val = svr_reg.predict(X_val_kpca2)\n",
    "\n",
    "r2_train = metrics.r2_score(y_train, pred_train)\n",
    "r2_val = metrics.r2_score(y_val, pred_val)\n",
    "print(\"R2 on training data: \", r2_train )\n",
    "print(\"R2 on validation data: \",r2_val)"
   ]
  },
  {
   "cell_type": "code",
   "execution_count": 112,
   "metadata": {},
   "outputs": [
    {
     "name": "stdout",
     "output_type": "stream",
     "text": [
      "RMSE on training data:  1.0836999257581017\n",
      "RMSE on validation data:  1.1792999481681172\n"
     ]
    }
   ],
   "source": [
    "#What is the Root Mean Squared Error (RMSE) on training data?\n",
    "#What is the RMSE on validation data?\n",
    "rmse_train = sqrt(metrics.mean_squared_error(y_train, pred_train))\n",
    "rmse_val = sqrt(metrics.mean_squared_error(y_val, pred_val))\n",
    "\n",
    "print(\"RMSE on training data: \", rmse_train)\n",
    "print(\"RMSE on validation data: \",rmse_val)"
   ]
  },
  {
   "cell_type": "markdown",
   "metadata": {},
   "source": [
    "### SVR rbf gets the best result."
   ]
  },
  {
   "cell_type": "markdown",
   "metadata": {},
   "source": [
    "#### Perform hyperparameter tuning of SVR using KPCA transformed data."
   ]
  },
  {
   "cell_type": "code",
   "execution_count": 113,
   "metadata": {},
   "outputs": [
    {
     "data": {
      "text/plain": [
       "GridSearchCV(estimator=SVR(),\n",
       "             param_grid={'C': [1, 10, 100, 1000],\n",
       "                         'gamma': [0.001, 0.01, 0.1, 1]},\n",
       "             scoring='r2')"
      ]
     },
     "execution_count": 113,
     "metadata": {},
     "output_type": "execute_result"
    }
   ],
   "source": [
    "svrreg = GridSearchCV(SVR(kernel='rbf'),param_grid={\"C\": [1, 10, 100, 1000],\"gamma\": [0.001, 0.01, 0.1, 1]}, scoring='r2')\n",
    "svrreg.fit(X_train_kpca2, y_train)"
   ]
  },
  {
   "cell_type": "code",
   "execution_count": 146,
   "metadata": {},
   "outputs": [
    {
     "data": {
      "text/plain": [
       "{'C': 10, 'gamma': 1}"
      ]
     },
     "execution_count": 146,
     "metadata": {},
     "output_type": "execute_result"
    }
   ],
   "source": [
    "svrreg.best_params_"
   ]
  },
  {
   "cell_type": "code",
   "execution_count": 147,
   "metadata": {},
   "outputs": [
    {
     "name": "stdout",
     "output_type": "stream",
     "text": [
      "R2 on training data:  0.7860912319437882\n",
      "R2 on validation data:  0.7500567754388686\n"
     ]
    }
   ],
   "source": [
    "#What is the model R^2 on training data?\n",
    "#What is the R^2 on validation data?\n",
    "pred_train = svrreg.predict(X_train_kpca2)\n",
    "pred_val = svrreg.predict(X_val_kpca2)\n",
    "\n",
    "r2_train = metrics.r2_score(y_train, pred_train)\n",
    "r2_val = metrics.r2_score(y_val, pred_val)\n",
    "print(\"R2 on training data: \", r2_train )\n",
    "print(\"R2 on validation data: \",r2_val)"
   ]
  },
  {
   "cell_type": "markdown",
   "metadata": {},
   "source": [
    "### I would choose svr rbf model."
   ]
  },
  {
   "cell_type": "markdown",
   "metadata": {},
   "source": [
    "## Q7 [10]"
   ]
  },
  {
   "cell_type": "markdown",
   "metadata": {},
   "source": [
    "#### Let's do some classification "
   ]
  },
  {
   "cell_type": "markdown",
   "metadata": {},
   "source": [
    "We will convert CO target values into binary form by comparing them to a threshold. $ 0 - 3  mg/m^3$ is the range of max 8-hour avg. ambient CO in most US cities. So let's take that.  \n",
    "[CO Levels of Concern in Government Recommendations and Regulations](https://www.carbonmonoxidekills.com/are-you-at-risk/carbon-monoxide-levels/)"
   ]
  },
  {
   "cell_type": "code",
   "execution_count": 116,
   "metadata": {},
   "outputs": [],
   "source": [
    "from sklearn.preprocessing import Binarizer"
   ]
  },
  {
   "cell_type": "code",
   "execution_count": 117,
   "metadata": {},
   "outputs": [],
   "source": [
    "binarizer = Binarizer(threshold=3)"
   ]
  },
  {
   "cell_type": "code",
   "execution_count": 118,
   "metadata": {},
   "outputs": [],
   "source": [
    "y_train_cat = binarizer.transform(y_train.values.reshape(-1,1)).ravel()\n",
    "y_val_cat = binarizer.transform(y_val.values.reshape(-1,1)).ravel()\n",
    "y_test_cat = binarizer.transform(y_test.values.reshape(-1,1)).ravel()"
   ]
  },
  {
   "cell_type": "code",
   "execution_count": 119,
   "metadata": {},
   "outputs": [],
   "source": [
    "y_train_cat = pd.Series(y_train_cat)"
   ]
  },
  {
   "cell_type": "code",
   "execution_count": 120,
   "metadata": {},
   "outputs": [
    {
     "data": {
      "text/plain": [
       "<AxesSubplot:>"
      ]
     },
     "execution_count": 120,
     "metadata": {},
     "output_type": "execute_result"
    },
    {
     "data": {
      "image/png": "[encoded data removed]",
      "text/plain": [
       "<Figure size 432x288 with 1 Axes>"
      ]
     },
     "metadata": {
      "needs_background": "light"
     },
     "output_type": "display_data"
    }
   ],
   "source": [
    "y_train_cat.value_counts().plot.barh()"
   ]
  },
  {
   "cell_type": "markdown",
   "metadata": {},
   "source": [
    "### Fit RBF Kernel SVM Classifier\n",
    "\n",
    "#### 1. Standardized training data \n",
    "- Using the standardized training data perform grid search:\n",
    "    - Find the best combination of the `C` and `gamma` hyper-parameters.  \n",
    "- For the best model:\n",
    "    - Either using the confusion matrix or the methods in `sklearn.metrics` get the following metrics on the validation set:\n",
    "     - Create confusion matrix\n",
    "     - Recall (Sensitivity)\n",
    "     - Specificity\n",
    "     - Precision\n",
    "     - Balanced Accuracy\n",
    "     - F1 Score\n",
    "     \n",
    "\n",
    "#### 2. PCA transformed training data \n",
    "- Using the **pca** transformed training data perform grid search:\n",
    "    - Find the best combination of the `C` and `gamma` hyper-parameters.  \n",
    "- For the best model:\n",
    "    - Either using the confusion matrix or the methods in `sklearn.metrics` get the following metrics on the validation set:\n",
    "         - Create confusion matrix\n",
    "         - Recall (Sensitivity)\n",
    "         - Specificity\n",
    "         - Precision\n",
    "         - Balanced Accuracy\n",
    "         - F1 Score\n",
    "\n",
    "    \n",
    "\n",
    "#### 3. Kernel PCA transformed training data\n",
    "- Using the **kernel pca** transformed training data perform grid search:\n",
    "    - Find the best combination of the `C` and `gamma` hyper-parameters.  \n",
    "- For the best model:\n",
    "    - Either using the confusion matrix or the methods in `sklearn.metrics` get the following metrics on the validation set:\n",
    "         - Create confusion matrix\n",
    "         - Recall (Sensitivity)\n",
    "         - Specificity\n",
    "         - Precision\n",
    "         - Balanced Accuracy\n",
    "         - F1 Score\n",
    "\n",
    "- Compare the results of Kernel RBF SVM model 1, 2, and 3. Which one is the best?\n",
    "    \n"
   ]
  },
  {
   "cell_type": "code",
   "execution_count": 121,
   "metadata": {},
   "outputs": [],
   "source": [
    "from sklearn.svm import SVC"
   ]
  },
  {
   "cell_type": "code",
   "execution_count": 122,
   "metadata": {},
   "outputs": [],
   "source": [
    "estimator = SVC(kernel ='rbf')"
   ]
  },
  {
   "cell_type": "markdown",
   "metadata": {},
   "source": [
    "### SVC Model 1 "
   ]
  },
  {
   "cell_type": "code",
   "execution_count": 124,
   "metadata": {},
   "outputs": [
    {
     "data": {
      "text/plain": [
       "GridSearchCV(cv=5, estimator=SVC(),\n",
       "             param_grid={'C': [1.0, 10.0, 100.0, 1000.0],\n",
       "                         'gamma': [0.001, 0.01, 0.1, 1]})"
      ]
     },
     "execution_count": 124,
     "metadata": {},
     "output_type": "execute_result"
    }
   ],
   "source": [
    "# CODE\n",
    "cv_stand = GridSearchCV(estimator,\n",
    "                   param_grid={\"C\": [1.0, 10.0, 100.0, 1000.0],\n",
    "                               \"gamma\": [0.001, 0.01 , 0.1 , 1]}, cv=5)\n",
    "cv_stand.fit(X_train, y_train_cat)"
   ]
  },
  {
   "cell_type": "code",
   "execution_count": 125,
   "metadata": {},
   "outputs": [
    {
     "data": {
      "text/plain": [
       "{'C': 1.0, 'gamma': 1}"
      ]
     },
     "execution_count": 125,
     "metadata": {},
     "output_type": "execute_result"
    }
   ],
   "source": [
    "cv_stand.best_params_"
   ]
  },
  {
   "cell_type": "code",
   "execution_count": 126,
   "metadata": {},
   "outputs": [],
   "source": [
    "best_estimator = cv_stand.best_estimator_\n",
    "pred_val = best_estimator.predict(X_val)"
   ]
  },
  {
   "cell_type": "code",
   "execution_count": 127,
   "metadata": {},
   "outputs": [
    {
     "data": {
      "image/png": "[encoded data removed]",
      "text/plain": [
       "<Figure size 432x288 with 1 Axes>"
      ]
     },
     "metadata": {
      "needs_background": "light"
     },
     "output_type": "display_data"
    }
   ],
   "source": [
    "# Create confusion metrics\n",
    "confusion_matrix =  pd.crosstab(index=np.ravel(y_val_cat), columns=pred_val.ravel(), rownames=['Actual'], colnames=['Predicted'])\n",
    "sns.heatmap(confusion_matrix, annot=True, square=False, fmt='', cbar=False)\n",
    "plt.title(\"Confusion Matrix\", fontsize = 15)\n",
    "plt.show()"
   ]
  },
  {
   "cell_type": "code",
   "execution_count": 129,
   "metadata": {},
   "outputs": [
    {
     "name": "stdout",
     "output_type": "stream",
     "text": [
      "              precision    recall  f1-score   support\n",
      "\n",
      "         0.0       0.92      0.94      0.93       812\n",
      "         1.0       0.90      0.87      0.88       517\n",
      "\n",
      "    accuracy                           0.91      1329\n",
      "   macro avg       0.91      0.90      0.91      1329\n",
      "weighted avg       0.91      0.91      0.91      1329\n",
      "\n",
      "\n",
      "Summary of Metrics:\n",
      "Sensitivity 0.868472\n",
      "Specificity 0.938424\n",
      "Precision 0.899800\n",
      "Accuracy 0.911211\n",
      "F1-score 0.883858\n"
     ]
    }
   ],
   "source": [
    "print(metrics.classification_report(y_true = y_val_cat, y_pred = pred_val))\n",
    "met = metrics.classification_report(y_true = y_val_cat, y_pred = pred_val,  output_dict=True)\n",
    "print(\"\\nSummary of Metrics:\")\n",
    "print(\"Sensitivity %f\"%(met['1.0']['recall']))\n",
    "print(\"Specificity %f\"%(met['0.0']['recall']))\n",
    "print(\"Precision %f\"%(met['1.0']['precision']))\n",
    "print(\"Accuracy %f\"%(met['accuracy']))\n",
    "print(\"F1-score %f\"%(met['1.0']['f1-score']))"
   ]
  },
  {
   "cell_type": "markdown",
   "metadata": {},
   "source": [
    "### SVC Model 2"
   ]
  },
  {
   "cell_type": "code",
   "execution_count": 130,
   "metadata": {},
   "outputs": [
    {
     "data": {
      "text/plain": [
       "GridSearchCV(cv=5, estimator=SVC(),\n",
       "             param_grid={'C': [1.0, 10.0, 100.0, 1000.0],\n",
       "                         'gamma': [0.001, 0.01, 0.1, 1]})"
      ]
     },
     "execution_count": 130,
     "metadata": {},
     "output_type": "execute_result"
    }
   ],
   "source": [
    "# CODE\n",
    "cv_pca = GridSearchCV(estimator,\n",
    "                   param_grid={\"C\": [1.0, 10.0, 100.0, 1000.0],\n",
    "                               \"gamma\": [0.001, 0.01 , 0.1 , 1]}, cv=5)\n",
    "cv_pca.fit(X_train_pca, y_train_cat)"
   ]
  },
  {
   "cell_type": "code",
   "execution_count": 131,
   "metadata": {},
   "outputs": [
    {
     "data": {
      "text/plain": [
       "{'C': 1.0, 'gamma': 1}"
      ]
     },
     "execution_count": 131,
     "metadata": {},
     "output_type": "execute_result"
    }
   ],
   "source": [
    "cv_pca.best_params_"
   ]
  },
  {
   "cell_type": "code",
   "execution_count": 132,
   "metadata": {},
   "outputs": [],
   "source": [
    "best_estimator_svc2 = cv_pca.best_estimator_\n",
    "pred_val_pca = best_estimator_svc2.predict(X_val_pca)"
   ]
  },
  {
   "cell_type": "code",
   "execution_count": 136,
   "metadata": {},
   "outputs": [
    {
     "data": {
      "image/png": "[encoded data removed]",
      "text/plain": [
       "<Figure size 432x288 with 1 Axes>"
      ]
     },
     "metadata": {
      "needs_background": "light"
     },
     "output_type": "display_data"
    }
   ],
   "source": [
    "# Create confusion metrics\n",
    "confusion_matrix =  pd.crosstab(index=np.ravel(y_val_cat), columns=pred_val_pca.ravel(), rownames=['Actual'], colnames=['Predicted'])\n",
    "sns.heatmap(confusion_matrix, annot=True, square=False, fmt='', cbar=False)\n",
    "plt.title(\"Confusion Matrix\", fontsize = 15)\n",
    "plt.show()"
   ]
  },
  {
   "cell_type": "code",
   "execution_count": 137,
   "metadata": {},
   "outputs": [
    {
     "name": "stdout",
     "output_type": "stream",
     "text": [
      "              precision    recall  f1-score   support\n",
      "\n",
      "         0.0       0.99      0.98      0.98       834\n",
      "         1.0       0.97      0.98      0.97       495\n",
      "\n",
      "    accuracy                           0.98      1329\n",
      "   macro avg       0.98      0.98      0.98      1329\n",
      "weighted avg       0.98      0.98      0.98      1329\n",
      "\n",
      "\n",
      "Summary of Metrics:\n",
      "Sensitivity 0.977778\n",
      "Specificity 0.982014\n",
      "Precision 0.969940\n",
      "Accuracy 0.980436\n",
      "F1-score 0.973843\n"
     ]
    }
   ],
   "source": [
    "print(metrics.classification_report(y_true = pred_val_pca, y_pred = pred_val))\n",
    "met = metrics.classification_report(y_true = pred_val_pca, y_pred = pred_val,  output_dict=True)\n",
    "print(\"\\nSummary of Metrics:\")\n",
    "print(\"Sensitivity %f\"%(met['1.0']['recall']))\n",
    "print(\"Specificity %f\"%(met['0.0']['recall']))\n",
    "print(\"Precision %f\"%(met['1.0']['precision']))\n",
    "print(\"Accuracy %f\"%(met['accuracy']))\n",
    "print(\"F1-score %f\"%(met['1.0']['f1-score']))"
   ]
  },
  {
   "cell_type": "markdown",
   "metadata": {},
   "source": [
    "### SVC Model 3"
   ]
  },
  {
   "cell_type": "code",
   "execution_count": 135,
   "metadata": {},
   "outputs": [
    {
     "data": {
      "text/plain": [
       "GridSearchCV(cv=5, estimator=SVC(),\n",
       "             param_grid={'C': [1.0, 10.0, 100.0, 1000.0],\n",
       "                         'gamma': [0.001, 0.01, 0.1, 1]})"
      ]
     },
     "execution_count": 135,
     "metadata": {},
     "output_type": "execute_result"
    }
   ],
   "source": [
    "# CODE\n",
    "cv_kpca = GridSearchCV(estimator,\n",
    "                   param_grid={\"C\": [1.0, 10.0, 100.0, 1000.0],\n",
    "                               \"gamma\": [0.001, 0.01 , 0.1 , 1]}, cv=5)\n",
    "cv_kpca.fit(X_train_kpca2, y_train_cat)"
   ]
  },
  {
   "cell_type": "code",
   "execution_count": 138,
   "metadata": {},
   "outputs": [
    {
     "data": {
      "text/plain": [
       "{'C': 10.0, 'gamma': 1}"
      ]
     },
     "execution_count": 138,
     "metadata": {},
     "output_type": "execute_result"
    }
   ],
   "source": [
    "cv_kpca.best_params_"
   ]
  },
  {
   "cell_type": "code",
   "execution_count": 139,
   "metadata": {},
   "outputs": [],
   "source": [
    "best_estimator_svc3 = cv_kpca.best_estimator_\n",
    "pred_val_kpca2 = best_estimator_svc3.predict(X_val_kpca2)"
   ]
  },
  {
   "cell_type": "code",
   "execution_count": 140,
   "metadata": {},
   "outputs": [
    {
     "data": {
      "image/png": "[encoded data removed]",
      "text/plain": [
       "<Figure size 432x288 with 1 Axes>"
      ]
     },
     "metadata": {
      "needs_background": "light"
     },
     "output_type": "display_data"
    }
   ],
   "source": [
    "# Create confusion metrics\n",
    "confusion_matrix =  pd.crosstab(index=np.ravel(y_val_cat), columns=pred_val_kpca2.ravel(), rownames=['Actual'], colnames=['Predicted'])\n",
    "sns.heatmap(confusion_matrix, annot=True, square=False, fmt='', cbar=False)\n",
    "plt.title(\"Confusion Matrix\", fontsize = 15)\n",
    "plt.show()"
   ]
  },
  {
   "cell_type": "code",
   "execution_count": 141,
   "metadata": {},
   "outputs": [
    {
     "name": "stdout",
     "output_type": "stream",
     "text": [
      "              precision    recall  f1-score   support\n",
      "\n",
      "         0.0       0.99      0.99      0.99       834\n",
      "         1.0       0.98      0.98      0.98       495\n",
      "\n",
      "    accuracy                           0.98      1329\n",
      "   macro avg       0.98      0.98      0.98      1329\n",
      "weighted avg       0.98      0.98      0.98      1329\n",
      "\n",
      "\n",
      "Summary of Metrics:\n",
      "Sensitivity 0.981818\n",
      "Specificity 0.985612\n",
      "Precision 0.975904\n",
      "Accuracy 0.984199\n",
      "F1-score 0.978852\n"
     ]
    }
   ],
   "source": [
    "print(metrics.classification_report(y_true = pred_val_pca, y_pred = pred_val_kpca2))\n",
    "met = metrics.classification_report(y_true = pred_val_pca, y_pred = pred_val_kpca2,  output_dict=True)\n",
    "print(\"\\nSummary of Metrics:\")\n",
    "print(\"Sensitivity %f\"%(met['1.0']['recall']))\n",
    "print(\"Specificity %f\"%(met['0.0']['recall']))\n",
    "print(\"Precision %f\"%(met['1.0']['precision']))\n",
    "print(\"Accuracy %f\"%(met['accuracy']))\n",
    "print(\"F1-score %f\"%(met['1.0']['f1-score']))"
   ]
  },
  {
   "cell_type": "markdown",
   "metadata": {},
   "source": [
    "## Q8 [10]"
   ]
  },
  {
   "cell_type": "markdown",
   "metadata": {},
   "source": [
    "- Using the Support Vector Regressor:\n",
    "    - Think of other ways of improving the regression performance and list at least two possibilities.\n",
    "    - You can use any of the datasets we have been using (standardized data, PCA transformed data or the Kernel PCA transformed data), or re-create your own set from the original.\n",
    "    - Implement both of the methods you proposed. \n",
    "    - Is the validation performance increasing? For performance comparison you can use any regression performance metric that you deem to be appropriate. \n",
    "    - If both of them did not improve, comment on why this might have been the case. What else can be done?\n",
    "    - Optional: Apply different methods, ideas as you see fit and see if the validation performance is improving."
   ]
  },
  {
   "cell_type": "code",
   "execution_count": 142,
   "metadata": {},
   "outputs": [],
   "source": [
    "#Possibilities one: Remove outliers \n",
    "Q1 = df.quantile(0.25)\n",
    "Q3 = df.quantile(0.75)\n",
    "IQR = Q3 - Q1\n",
    "new_df = df[~((df < (Q1 - 1.5 * IQR)) |(df > (Q3 + 1.5 * IQR))).any(axis=1)]"
   ]
  },
  {
   "cell_type": "code",
   "execution_count": 143,
   "metadata": {},
   "outputs": [
    {
     "data": {
      "text/html": [
       "<div>\n",
       "<style scoped>\n",
       "    .dataframe tbody tr th:only-of-type {\n",
       "        vertical-align: middle;\n",
       "    }\n",
       "\n",
       "    .dataframe tbody tr th {\n",
       "        vertical-align: top;\n",
       "    }\n",
       "\n",
       "    .dataframe thead th {\n",
       "        text-align: right;\n",
       "    }\n",
       "</style>\n",
       "<table border=\"1\" class=\"dataframe\">\n",
       "  <thead>\n",
       "    <tr style=\"text-align: right;\">\n",
       "      <th></th>\n",
       "      <th>AT</th>\n",
       "      <th>AP</th>\n",
       "      <th>AH</th>\n",
       "      <th>AFDP</th>\n",
       "      <th>GTEP</th>\n",
       "      <th>TIT</th>\n",
       "      <th>TAT</th>\n",
       "      <th>TEY</th>\n",
       "      <th>CDP</th>\n",
       "      <th>CO</th>\n",
       "      <th>NOX</th>\n",
       "    </tr>\n",
       "  </thead>\n",
       "  <tbody>\n",
       "    <tr>\n",
       "      <th>count</th>\n",
       "      <td>6152.000000</td>\n",
       "      <td>6152.000000</td>\n",
       "      <td>6152.000000</td>\n",
       "      <td>6152.000000</td>\n",
       "      <td>6152.000000</td>\n",
       "      <td>6152.000000</td>\n",
       "      <td>6152.000000</td>\n",
       "      <td>6152.000000</td>\n",
       "      <td>6152.000000</td>\n",
       "      <td>6152.000000</td>\n",
       "      <td>6152.000000</td>\n",
       "    </tr>\n",
       "    <tr>\n",
       "      <th>mean</th>\n",
       "      <td>18.961726</td>\n",
       "      <td>1013.335317</td>\n",
       "      <td>68.036505</td>\n",
       "      <td>3.613334</td>\n",
       "      <td>25.965724</td>\n",
       "      <td>1080.207819</td>\n",
       "      <td>548.105844</td>\n",
       "      <td>133.371824</td>\n",
       "      <td>12.053777</td>\n",
       "      <td>2.701250</td>\n",
       "      <td>57.956808</td>\n",
       "    </tr>\n",
       "    <tr>\n",
       "      <th>std</th>\n",
       "      <td>7.291085</td>\n",
       "      <td>5.727596</td>\n",
       "      <td>13.816873</td>\n",
       "      <td>0.562190</td>\n",
       "      <td>3.879969</td>\n",
       "      <td>17.176065</td>\n",
       "      <td>3.189006</td>\n",
       "      <td>13.341493</td>\n",
       "      <td>0.962716</td>\n",
       "      <td>1.276189</td>\n",
       "      <td>8.126079</td>\n",
       "    </tr>\n",
       "    <tr>\n",
       "      <th>min</th>\n",
       "      <td>-3.303800</td>\n",
       "      <td>996.760000</td>\n",
       "      <td>29.270000</td>\n",
       "      <td>2.471700</td>\n",
       "      <td>17.972000</td>\n",
       "      <td>1037.200000</td>\n",
       "      <td>536.870000</td>\n",
       "      <td>100.470000</td>\n",
       "      <td>9.935800</td>\n",
       "      <td>0.212900</td>\n",
       "      <td>39.556000</td>\n",
       "    </tr>\n",
       "    <tr>\n",
       "      <th>25%</th>\n",
       "      <td>13.381750</td>\n",
       "      <td>1009.100000</td>\n",
       "      <td>58.163500</td>\n",
       "      <td>3.175300</td>\n",
       "      <td>23.388750</td>\n",
       "      <td>1072.900000</td>\n",
       "      <td>546.570000</td>\n",
       "      <td>128.610000</td>\n",
       "      <td>11.571000</td>\n",
       "      <td>1.733975</td>\n",
       "      <td>52.177750</td>\n",
       "    </tr>\n",
       "    <tr>\n",
       "      <th>50%</th>\n",
       "      <td>19.277500</td>\n",
       "      <td>1013.100000</td>\n",
       "      <td>70.276000</td>\n",
       "      <td>3.543950</td>\n",
       "      <td>25.299500</td>\n",
       "      <td>1080.300000</td>\n",
       "      <td>549.840000</td>\n",
       "      <td>131.555000</td>\n",
       "      <td>11.936000</td>\n",
       "      <td>2.319000</td>\n",
       "      <td>56.018000</td>\n",
       "    </tr>\n",
       "    <tr>\n",
       "      <th>75%</th>\n",
       "      <td>24.634750</td>\n",
       "      <td>1016.900000</td>\n",
       "      <td>79.396500</td>\n",
       "      <td>4.182075</td>\n",
       "      <td>29.734000</td>\n",
       "      <td>1099.700000</td>\n",
       "      <td>550.060000</td>\n",
       "      <td>145.957500</td>\n",
       "      <td>13.061250</td>\n",
       "      <td>3.523125</td>\n",
       "      <td>62.912000</td>\n",
       "    </tr>\n",
       "    <tr>\n",
       "      <th>max</th>\n",
       "      <td>36.264000</td>\n",
       "      <td>1031.200000</td>\n",
       "      <td>96.666000</td>\n",
       "      <td>4.901600</td>\n",
       "      <td>38.362000</td>\n",
       "      <td>1100.300000</td>\n",
       "      <td>550.590000</td>\n",
       "      <td>162.400000</td>\n",
       "      <td>13.807000</td>\n",
       "      <td>6.536900</td>\n",
       "      <td>84.120000</td>\n",
       "    </tr>\n",
       "  </tbody>\n",
       "</table>\n",
       "</div>"
      ],
      "text/plain": [
       "                AT           AP           AH         AFDP         GTEP  \\\n",
       "count  6152.000000  6152.000000  6152.000000  6152.000000  6152.000000   \n",
       "mean     18.961726  1013.335317    68.036505     3.613334    25.965724   \n",
       "std       7.291085     5.727596    13.816873     0.562190     3.879969   \n",
       "min      -3.303800   996.760000    29.270000     2.471700    17.972000   \n",
       "25%      13.381750  1009.100000    58.163500     3.175300    23.388750   \n",
       "50%      19.277500  1013.100000    70.276000     3.543950    25.299500   \n",
       "75%      24.634750  1016.900000    79.396500     4.182075    29.734000   \n",
       "max      36.264000  1031.200000    96.666000     4.901600    38.362000   \n",
       "\n",
       "               TIT          TAT          TEY          CDP           CO  \\\n",
       "count  6152.000000  6152.000000  6152.000000  6152.000000  6152.000000   \n",
       "mean   1080.207819   548.105844   133.371824    12.053777     2.701250   \n",
       "std      17.176065     3.189006    13.341493     0.962716     1.276189   \n",
       "min    1037.200000   536.870000   100.470000     9.935800     0.212900   \n",
       "25%    1072.900000   546.570000   128.610000    11.571000     1.733975   \n",
       "50%    1080.300000   549.840000   131.555000    11.936000     2.319000   \n",
       "75%    1099.700000   550.060000   145.957500    13.061250     3.523125   \n",
       "max    1100.300000   550.590000   162.400000    13.807000     6.536900   \n",
       "\n",
       "               NOX  \n",
       "count  6152.000000  \n",
       "mean     57.956808  \n",
       "std       8.126079  \n",
       "min      39.556000  \n",
       "25%      52.177750  \n",
       "50%      56.018000  \n",
       "75%      62.912000  \n",
       "max      84.120000  "
      ]
     },
     "execution_count": 143,
     "metadata": {},
     "output_type": "execute_result"
    }
   ],
   "source": [
    "new_df.describe()"
   ]
  },
  {
   "cell_type": "code",
   "execution_count": 144,
   "metadata": {},
   "outputs": [],
   "source": [
    "y_c = new_df.CO\n",
    "X_c = new_df.drop(['CO', 'NOX'], axis=1)\n",
    "from sklearn.model_selection import train_test_split\n",
    "X_train_clean, X_test_clean, y_train_clean, y_test_clean = train_test_split(X_c, y_c, test_size=0.10, random_state=555)\n",
    "X_train_clean, X_val_clean, y_train_clean, y_val_clean = train_test_split(X_train_clean, y_train_clean, test_size=0.30, random_state=555)"
   ]
  },
  {
   "cell_type": "code",
   "execution_count": 145,
   "metadata": {},
   "outputs": [],
   "source": [
    "from sklearn.preprocessing import StandardScaler\n",
    "stand = StandardScaler()\n",
    "stand.fit(X_train_clean)\n",
    "X_train_clean = stand.transform(X_train_clean)\n",
    "X_val_clean = stand.transform(X_val_clean)\n",
    "X_test_clean = stand.transform(X_test_clean)"
   ]
  },
  {
   "cell_type": "code",
   "execution_count": 149,
   "metadata": {},
   "outputs": [
    {
     "data": {
      "text/plain": [
       "GridSearchCV(estimator=SVR(),\n",
       "             param_grid={'C': [1, 10, 100, 1000],\n",
       "                         'gamma': [0.001, 0.01, 0.1, 1]},\n",
       "             scoring='r2')"
      ]
     },
     "execution_count": 149,
     "metadata": {},
     "output_type": "execute_result"
    }
   ],
   "source": [
    "svrreg = GridSearchCV(SVR(kernel='rbf'),param_grid={\"C\": [1, 10, 100, 1000],\"gamma\": [0.001, 0.01, 0.1, 1]}, scoring='r2')\n",
    "svrreg.fit(X_train_clean, y_train_clean)"
   ]
  },
  {
   "cell_type": "code",
   "execution_count": 150,
   "metadata": {},
   "outputs": [
    {
     "data": {
      "text/plain": [
       "{'C': 10, 'gamma': 0.1}"
      ]
     },
     "execution_count": 150,
     "metadata": {},
     "output_type": "execute_result"
    }
   ],
   "source": [
    "svrreg.best_params_"
   ]
  },
  {
   "cell_type": "code",
   "execution_count": 151,
   "metadata": {},
   "outputs": [
    {
     "name": "stdout",
     "output_type": "stream",
     "text": [
      "After clean the outliers, R2 on training data:  0.8282792656132072\n",
      "After clean the outliers, R2 on validation data:  0.8190355056103744\n"
     ]
    }
   ],
   "source": [
    "#What is the model R^2 on training data?\n",
    "#What is the R^2 on validation data?\n",
    "pred_train = svrreg.predict(X_train_clean)\n",
    "pred_val = svrreg.predict(X_val_clean)\n",
    "\n",
    "r2_train = metrics.r2_score(y_train_clean, pred_train)\n",
    "r2_val = metrics.r2_score(y_val_clean, pred_val)\n",
    "print(\"After clean the outliers, R2 on training data: \", r2_train )\n",
    "print(\"After clean the outliers, R2 on validation data: \",r2_val)"
   ]
  },
  {
   "cell_type": "markdown",
   "metadata": {},
   "source": [
    "### After clean the outliers, the R^2 on both training data and validation data do have improve and the gap between these two is smaller."
   ]
  },
  {
   "cell_type": "code",
   "execution_count": 152,
   "metadata": {},
   "outputs": [
    {
     "data": {
      "text/plain": [
       "GridSearchCV(cv=5, estimator=SVR(),\n",
       "             param_grid={'C': [1, 10, 100, 1000], 'degree': [2, 3, 4],\n",
       "                         'gamma': [0.001, 0.01, 0.1, 1]})"
      ]
     },
     "execution_count": 152,
     "metadata": {},
     "output_type": "execute_result"
    }
   ],
   "source": [
    "#Possibilities two: change the degree\n",
    "svrreg = GridSearchCV(SVR(kernel='rbf'),param_grid={\"C\": [1, 10, 100, 1000],\"gamma\": [0.001, 0.01, 0.1, 1], \"degree\":[2, 3, 4]}, cv = 5)\n",
    "svrreg.fit(X_train_kpca2, y_train)"
   ]
  },
  {
   "cell_type": "code",
   "execution_count": 154,
   "metadata": {},
   "outputs": [
    {
     "data": {
      "text/plain": [
       "{'C': 10, 'degree': 2, 'gamma': 1}"
      ]
     },
     "execution_count": 154,
     "metadata": {},
     "output_type": "execute_result"
    }
   ],
   "source": [
    "svrreg.best_params_"
   ]
  },
  {
   "cell_type": "code",
   "execution_count": 155,
   "metadata": {},
   "outputs": [
    {
     "name": "stdout",
     "output_type": "stream",
     "text": [
      "After change the degree, R2 on training data:  0.7860912319437882\n",
      "After change the degree, R2 on validation data:  0.7500567754388686\n"
     ]
    }
   ],
   "source": [
    "#What is the model R^2 on training data?\n",
    "#What is the R^2 on validation data?\n",
    "pred_train = svrreg.predict(X_train_kpca2)\n",
    "pred_val = svrreg.predict(X_val_kpca2)\n",
    "\n",
    "r2_train = metrics.r2_score(y_train, pred_train)\n",
    "r2_val = metrics.r2_score(y_val, pred_val)\n",
    "print(\"After change the degree, R2 on training data: \", r2_train )\n",
    "print(\"After change the degree, R2 on validation data: \",r2_val)"
   ]
  },
  {
   "cell_type": "markdown",
   "metadata": {},
   "source": [
    "### After change the degree, the R^2 on both training data and validation data doesn't change too many."
   ]
  },
  {
   "cell_type": "markdown",
   "metadata": {},
   "source": [
    "## Q9 [10]"
   ]
  },
  {
   "cell_type": "markdown",
   "metadata": {},
   "source": [
    "- Using the Support Vector Classifier :\n",
    "    - Think of other ways of improving the clasification performance and list at least two possibilities.\n",
    "    - You can use any of the datasets we have been using (standardized data, PCA transformed data or the Kernel PCA transformed data), or re-create your own set from the original.\n",
    "    - Implement both of the methods you proposed. \n",
    "    - Is the validation performance increasing? For performance comparison you can use any classification performance metric that you deem to be appropriate.\n",
    "    - If both of them did not improve, comment on why this might have been the case. What else can be done?\n",
    "    - Optional: Apply different methods, ideas as you see fit and see if the validation performance is improving."
   ]
  },
  {
   "cell_type": "code",
   "execution_count": 156,
   "metadata": {},
   "outputs": [],
   "source": [
    "# YOUR CODE \n",
    "#Possibility one: Feature Selection\n",
    "from sklearn.ensemble import ExtraTreesClassifier\n",
    "model = ExtraTreesClassifier(n_estimators=100)\n",
    "model.fit(X_train, y_train_cat)\n",
    "imp = model.feature_importances_\n",
    "feat_importances = pd.Series(imp, index=X.columns)"
   ]
  },
  {
   "cell_type": "code",
   "execution_count": 157,
   "metadata": {},
   "outputs": [
    {
     "data": {
      "image/png": "[encoded data removed]",
      "text/plain": [
       "<Figure size 720x360 with 1 Axes>"
      ]
     },
     "metadata": {
      "needs_background": "light"
     },
     "output_type": "display_data"
    }
   ],
   "source": [
    "plt.figure(figsize=(10,5))\n",
    "feat_importances.nlargest(10).plot(kind='barh')\n",
    "plt.show()"
   ]
  },
  {
   "cell_type": "code",
   "execution_count": 158,
   "metadata": {},
   "outputs": [],
   "source": [
    "X = new_df.drop(['AH','TAT', 'AP', 'CO', 'NOX' ], axis=1)\n",
    "y = new_df.CO\n",
    "X_train, X_test, y_train, y_test = train_test_split(X, y, test_size=0.10, random_state=555)\n",
    "X_train, X_val, y_train, y_val = train_test_split(X_train, y_train, test_size=0.30, random_state=555)\n",
    "stand = StandardScaler()\n",
    "stand.fit(X_train)\n",
    "X_train = stand.transform(X_train)\n",
    "X_val = stand.transform(X_val)\n",
    "X_test = stand.transform(X_test)\n",
    "\n",
    "\n",
    "from sklearn.preprocessing import Binarizer\n",
    "binarizer = Binarizer(threshold=3)\n",
    "binarizer.fit([y_train])\n",
    "y_train_cat = binarizer.transform([y_train]).ravel()\n",
    "y_val_cat = binarizer.transform([y_val]).ravel()\n",
    "y_test_cat = binarizer.transform([y_test]).ravel()"
   ]
  },
  {
   "cell_type": "code",
   "execution_count": 173,
   "metadata": {},
   "outputs": [
    {
     "data": {
      "text/plain": [
       "GridSearchCV(estimator=SVR(), param_grid={'C': [10], 'gamma': [0.1]},\n",
       "             scoring='r2')"
      ]
     },
     "execution_count": 173,
     "metadata": {},
     "output_type": "execute_result"
    }
   ],
   "source": [
    "svrreg = GridSearchCV(SVR(kernel='rbf'),param_grid={\"C\":[10],\"gamma\":[0.1]}, scoring='r2')\n",
    "svrreg.fit(X_train, y_train_cat)"
   ]
  },
  {
   "cell_type": "code",
   "execution_count": 174,
   "metadata": {},
   "outputs": [
    {
     "name": "stdout",
     "output_type": "stream",
     "text": [
      "After Feature Selection, R2 on training data:  0.7092838571374731\n",
      "After Feature Selection, R2 on validation data:  0.6702572831488993\n"
     ]
    }
   ],
   "source": [
    "#What is the model R^2 on training data?\n",
    "#What is the R^2 on validation data?\n",
    "pred_train = svrreg.predict(X_train)\n",
    "pred_val = svrreg.predict(X_val)\n",
    "\n",
    "r2_train = metrics.r2_score(y_train_cat, pred_train)\n",
    "r2_val = metrics.r2_score(y_val_cat, pred_val)\n",
    "print(\"After Feature Selection, R2 on training data: \", r2_train )\n",
    "print(\"After Feature Selection, R2 on validation data: \",r2_val)"
   ]
  },
  {
   "cell_type": "markdown",
   "metadata": {},
   "source": [
    "#### After feature selection, the result doen't improve.  "
   ]
  },
  {
   "cell_type": "code",
   "execution_count": 175,
   "metadata": {},
   "outputs": [
    {
     "name": "stdout",
     "output_type": "stream",
     "text": [
      "[0.77717609 1.40195369]\n"
     ]
    }
   ],
   "source": [
    "#possibility two: class weight\n",
    "from sklearn.utils import class_weight\n",
    "class_weights = class_weight.compute_class_weight('balanced', np.unique(y_train_cat),y_train_cat)\n",
    "print(class_weights)"
   ]
  },
  {
   "cell_type": "code",
   "execution_count": 176,
   "metadata": {},
   "outputs": [
    {
     "data": {
      "text/plain": [
       "SVC(C=10, class_weight={0: 0.77, 1: 1.4}, gamma=0.01)"
      ]
     },
     "execution_count": 176,
     "metadata": {},
     "output_type": "execute_result"
    }
   ],
   "source": [
    "svrreg = SVC(kernel='rbf', C=10, gamma=0.01, class_weight={0: 0.77, 1: 1.4})\n",
    "svrreg.fit(X_train, y_train_cat)"
   ]
  },
  {
   "cell_type": "code",
   "execution_count": 177,
   "metadata": {},
   "outputs": [
    {
     "name": "stdout",
     "output_type": "stream",
     "text": [
      "After class weight, R2 on training data:  0.5546139900839573\n",
      "After class weight, R2 on validation data:  0.5144410664172124\n"
     ]
    }
   ],
   "source": [
    "#What is the model R^2 on training data?\n",
    "#What is the R^2 on validation data?\n",
    "pred_train = svrreg.predict(X_train)\n",
    "pred_val = svrreg.predict(X_val)\n",
    "\n",
    "r2_train = metrics.r2_score(y_train_cat, pred_train)\n",
    "r2_val = metrics.r2_score(y_val_cat, pred_val)\n",
    "print(\"After class weight, R2 on training data: \", r2_train )\n",
    "print(\"After class weight, R2 on validation data: \",r2_val)"
   ]
  },
  {
   "cell_type": "markdown",
   "metadata": {},
   "source": [
    "## Q10 [10]"
   ]
  },
  {
   "cell_type": "markdown",
   "metadata": {},
   "source": [
    "- Choose the best 5 regressors among the trained regressions models:\n",
    "- Create a table summarizing results on the **test** set for regression (with target variables in `y_test`):\n",
    "    - Show the regression performance metric of your choice on test data for each model.\n",
    "- Which model is best for regression? Is this in line with your analysis (the validation performance of the models) or is this not expected?\n",
    "\n",
    "\n",
    "\n",
    "- Choose the best 5 classifiers among the trained classification models:\n",
    "- Create a table summarizing results on the **test** set for classification (with target variables in `y_test_cat`):\n",
    "    - Show the classification performance metric of your choice on test data for each model. \n",
    "- Which model is best for classification? Is this in line with your analysis (the validation performance of the models) or is this not expected? \n",
    "\n",
    "\n",
    "\n",
    "> Note that the same transformation used during training should be applied on the testing set. (If you applied PCA on training data for the selected model, you need to apply PCA on the testing set as well.) \n",
    "\n"
   ]
  },
  {
   "cell_type": "code",
   "execution_count": 179,
   "metadata": {},
   "outputs": [],
   "source": [
    "# YOUR CODE\n",
    "r2 = []\n",
    "rmse = []\n",
    "\n",
    "linear = LinearRegression()\n",
    "linear.fit(X_train, y_train)\n",
    "y_test_lr = linear.predict(X_test)\n",
    "r2.append(metrics.r2_score(y_test, y_test_lr))\n",
    "rmse.append(metrics.mean_squared_error(y_test, y_test_lr, squared=False))\n",
    "\n",
    "rf_reg = RandomForestRegressor(n_estimators=50,max_depth=4,random_state=RANDOM_STATE)\n",
    "rf_reg.fit(X_train, y_train)\n",
    "y_test_rfr = rf_reg.predict(X_test)\n",
    "r2.append(metrics.r2_score(y_test, y_test_rfr))\n",
    "rmse.append(metrics.mean_squared_error(y_test, y_test_rfr, squared=False))\n",
    "\n",
    "svr_linear = SVR(kernel='linear')\n",
    "svr_linear.fit(X_train, y_train)\n",
    "y_test_svr_linear = svr_linear.predict(X_test)\n",
    "r2.append(metrics.r2_score(y_test, y_test_svr_linear))\n",
    "rmse.append(metrics.mean_squared_error(y_test, y_test_svr_linear, squared=False))\n",
    "\n",
    "svr_poly = SVR(kernel='poly',C=100,degree=2,gamma=1)\n",
    "svr_poly.fit(X_train, y_train)\n",
    "y_test_svr_poly = svr_poly.predict(X_test)\n",
    "r2.append(metrics.r2_score(y_test, y_test_svr_poly))\n",
    "rmse.append(metrics.mean_squared_error(y_test, y_test_svr_poly, squared=False))\n",
    "\n",
    "svr_rbf = SVR(kernel='rbf',C=1000,gamma=0.01)\n",
    "svr_rbf.fit(X_train, y_train)\n",
    "y_test_svr_rbf = svr_rbf.predict(X_test)\n",
    "r2.append(metrics.r2_score(y_test, y_test_svr_rbf))\n",
    "rmse.append(metrics.mean_squared_error(y_test, y_test_svr_rbf, squared=False))"
   ]
  },
  {
   "cell_type": "code",
   "execution_count": 180,
   "metadata": {},
   "outputs": [
    {
     "data": {
      "text/html": [
       "<div>\n",
       "<style scoped>\n",
       "    .dataframe tbody tr th:only-of-type {\n",
       "        vertical-align: middle;\n",
       "    }\n",
       "\n",
       "    .dataframe tbody tr th {\n",
       "        vertical-align: top;\n",
       "    }\n",
       "\n",
       "    .dataframe thead th {\n",
       "        text-align: right;\n",
       "    }\n",
       "</style>\n",
       "<table border=\"1\" class=\"dataframe\">\n",
       "  <thead>\n",
       "    <tr style=\"text-align: right;\">\n",
       "      <th></th>\n",
       "      <th>model</th>\n",
       "      <th>r2</th>\n",
       "      <th>rmse</th>\n",
       "    </tr>\n",
       "  </thead>\n",
       "  <tbody>\n",
       "    <tr>\n",
       "      <th>0</th>\n",
       "      <td>Linear Regression</td>\n",
       "      <td>0.733294</td>\n",
       "      <td>0.624416</td>\n",
       "    </tr>\n",
       "    <tr>\n",
       "      <th>1</th>\n",
       "      <td>RandomForest Regression</td>\n",
       "      <td>0.778576</td>\n",
       "      <td>0.568944</td>\n",
       "    </tr>\n",
       "    <tr>\n",
       "      <th>2</th>\n",
       "      <td>SVR linear</td>\n",
       "      <td>0.733959</td>\n",
       "      <td>0.623637</td>\n",
       "    </tr>\n",
       "    <tr>\n",
       "      <th>3</th>\n",
       "      <td>SVR poly</td>\n",
       "      <td>0.389924</td>\n",
       "      <td>0.944386</td>\n",
       "    </tr>\n",
       "    <tr>\n",
       "      <th>4</th>\n",
       "      <td>SVR rbf</td>\n",
       "      <td>0.791249</td>\n",
       "      <td>0.552423</td>\n",
       "    </tr>\n",
       "  </tbody>\n",
       "</table>\n",
       "</div>"
      ],
      "text/plain": [
       "                     model        r2      rmse\n",
       "0        Linear Regression  0.733294  0.624416\n",
       "1  RandomForest Regression  0.778576  0.568944\n",
       "2               SVR linear  0.733959  0.623637\n",
       "3                 SVR poly  0.389924  0.944386\n",
       "4                  SVR rbf  0.791249  0.552423"
      ]
     },
     "execution_count": 180,
     "metadata": {},
     "output_type": "execute_result"
    }
   ],
   "source": [
    "models = ['Linear Regression', 'RandomForest Regression','SVR linear', 'SVR poly', 'SVR rbf']\n",
    "d = {'model': models, 'r2': r2, 'rmse': rmse}\n",
    "df = pd.DataFrame(data=d)\n",
    "df"
   ]
  },
  {
   "cell_type": "code",
   "execution_count": 129,
   "metadata": {},
   "outputs": [
    {
     "name": "stdout",
     "output_type": "stream",
     "text": [
      "              precision    recall  f1-score   support\n",
      "\n",
      "         0.0       0.92      0.94      0.93       812\n",
      "         1.0       0.90      0.87      0.88       517\n",
      "\n",
      "    accuracy                           0.91      1329\n",
      "   macro avg       0.91      0.90      0.91      1329\n",
      "weighted avg       0.91      0.91      0.91      1329\n",
      "\n",
      "\n",
      "Summary of Metrics:\n",
      "Sensitivity 0.868472\n",
      "Specificity 0.938424\n",
      "Precision 0.899800\n",
      "Accuracy 0.911211\n",
      "F1-score 0.883858\n"
     ]
    }
   ],
   "source": [
    "#SVR rbf is the best\n",
    "print(metrics.classification_report(y_true = y_val_cat, y_pred = pred_val))\n",
    "met = metrics.classification_report(y_true = y_val_cat, y_pred = pred_val,  output_dict=True)\n",
    "print(\"\\nSummary of Metrics:\")\n",
    "print(\"Sensitivity %f\"%(met['1.0']['recall']))\n",
    "print(\"Specificity %f\"%(met['0.0']['recall']))\n",
    "print(\"Precision %f\"%(met['1.0']['precision']))\n",
    "print(\"Accuracy %f\"%(met['accuracy']))\n",
    "print(\"F1-score %f\"%(met['1.0']['f1-score']))"
   ]
  },
  {
   "cell_type": "markdown",
   "metadata": {},
   "source": [
    "- What did you learn in this project? Any suggestions?"
   ]
  },
  {
   "cell_type": "code",
   "execution_count": 70,
   "metadata": {},
   "outputs": [],
   "source": [
    "# Your comments\n",
    "#In each situation, the results may difference becuase of some slight change. \n",
    "#Still need to practice in the future."
   ]
  },
  {
   "cell_type": "markdown",
   "metadata": {},
   "source": [
    "# Thank you\n",
    "Ilyas Ustun  \n",
    "twitter: \\_ilyas\\_ustun\\_"
   ]
  },
  {
   "cell_type": "code",
   "execution_count": null,
   "metadata": {},
   "outputs": [],
   "source": []
  }
 ],
 "metadata": {
  "kernelspec": {
   "display_name": "Python 3",
   "language": "python",
   "name": "python3"
  },
  "language_info": {
   "codemirror_mode": {
    "name": "ipython",
    "version": 3
   },
   "file_extension": ".py",
   "mimetype": "text/x-python",
   "name": "python",
   "nbconvert_exporter": "python",
   "pygments_lexer": "ipython3",
   "version": "3.8.5"
  },
  "toc": {
   "base_numbering": 1,
   "nav_menu": {},
   "number_sections": false,
   "sideBar": false,
   "skip_h1_title": false,
   "title_cell": "Table of Contents",
   "title_sidebar": "Contents",
   "toc_cell": false,
   "toc_position": {},
   "toc_section_display": false,
   "toc_window_display": false
  }
 },
 "nbformat": 4,
 "nbformat_minor": 4
}
